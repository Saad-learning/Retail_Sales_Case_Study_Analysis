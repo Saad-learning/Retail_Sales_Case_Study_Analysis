{
 "cells": [
  {
   "cell_type": "code",
   "execution_count": 1,
   "metadata": {},
   "outputs": [
    {
     "name": "stdout",
     "output_type": "stream",
     "text": [
      "Connected successfully!\n"
     ]
    }
   ],
   "source": [
    "import pyodbc as odbc\n",
    "import pandas as pd \n",
    "import matplotlib.pyplot as plt\n",
    "import seaborn as sns\n",
    "import numpy as np\n",
    "\n",
    "DRIVER_NAME = 'ODBC Driver 17 for SQL Server'\n",
    "SERVER_NAME = r'DESKTOP-L3GBMQ5\\SQLEXPRESS'\n",
    "DATABASE_NAME = 'Case_Studies'\n",
    "\n",
    "connection_string = (\n",
    "    f\"DRIVER={{{DRIVER_NAME}}};\"\n",
    "    f\"SERVER={SERVER_NAME};\"\n",
    "    f\"DATABASE={DATABASE_NAME};\"\n",
    "    f\"Trusted_Connection=yes;\"\n",
    ")\n",
    "\n",
    "conn = odbc.connect(connection_string)\n",
    "print(\"Connected successfully!\")"
   ]
  },
  {
   "cell_type": "code",
   "execution_count": 8,
   "metadata": {},
   "outputs": [],
   "source": [
    "sql_discount = \"\"\"\n",
    "WITH DiscountBuckets AS (\n",
    "    SELECT \n",
    "        CASE \n",
    "            WHEN discount_percent < 0.1 THEN '0-10%'\n",
    "            WHEN discount_percent >= 0.1 AND discount_percent < 0.2 THEN '10-20%'\n",
    "            WHEN discount_percent >= 0.2 AND discount_percent < 0.3 THEN '20-30%'\n",
    "            WHEN discount_percent >= 0.3 AND discount_percent < 0.4 THEN '30-40%'\n",
    "            ELSE '40%+'\n",
    "        END AS Discount_Range,\n",
    "        SUM(total_sales) AS Total_Sales\n",
    "    FROM retail_sales_cleaned_3\n",
    "    GROUP BY \n",
    "        CASE \n",
    "            WHEN discount_percent < 0.1 THEN '0-10%'\n",
    "            WHEN discount_percent >= 0.1 AND discount_percent < 0.2 THEN '10-20%'\n",
    "            WHEN discount_percent >= 0.2 AND discount_percent < 0.3 THEN '20-30%'\n",
    "            WHEN discount_percent >= 0.3 AND discount_percent < 0.4 THEN '30-40%'\n",
    "            ELSE '40%+'\n",
    "        END\n",
    ")\n",
    "SELECT * \n",
    "FROM DiscountBuckets\n",
    "ORDER BY Discount_Range;\n",
    "\"\"\"\n"
   ]
  },
  {
   "cell_type": "code",
   "execution_count": 9,
   "metadata": {},
   "outputs": [
    {
     "name": "stderr",
     "output_type": "stream",
     "text": [
      "C:\\Users\\GIGABYTE\\AppData\\Local\\Temp\\ipykernel_12660\\3904300538.py:1: UserWarning: pandas only supports SQLAlchemy connectable (engine/connection) or database string URI or sqlite3 DBAPI2 connection. Other DBAPI2 objects are not tested. Please consider using SQLAlchemy.\n",
      "  df_discount = pd.read_sql(sql_discount, conn)\n"
     ]
    },
    {
     "data": {
      "application/vnd.microsoft.datawrangler.viewer.v0+json": {
       "columns": [
        {
         "name": "index",
         "rawType": "int64",
         "type": "integer"
        },
        {
         "name": "Discount_Range",
         "rawType": "object",
         "type": "string"
        },
        {
         "name": "Total_Sales",
         "rawType": "float64",
         "type": "float"
        }
       ],
       "ref": "7b459e54-51ac-418c-921d-18c94185bf54",
       "rows": [
        [
         "0",
         "0-10%",
         "26332.200286865234"
        ],
        [
         "1",
         "40%+",
         "2229105.6112918854"
        ]
       ],
       "shape": {
        "columns": 2,
        "rows": 2
       }
      },
      "text/html": [
       "<div>\n",
       "<style scoped>\n",
       "    .dataframe tbody tr th:only-of-type {\n",
       "        vertical-align: middle;\n",
       "    }\n",
       "\n",
       "    .dataframe tbody tr th {\n",
       "        vertical-align: top;\n",
       "    }\n",
       "\n",
       "    .dataframe thead th {\n",
       "        text-align: right;\n",
       "    }\n",
       "</style>\n",
       "<table border=\"1\" class=\"dataframe\">\n",
       "  <thead>\n",
       "    <tr style=\"text-align: right;\">\n",
       "      <th></th>\n",
       "      <th>Discount_Range</th>\n",
       "      <th>Total_Sales</th>\n",
       "    </tr>\n",
       "  </thead>\n",
       "  <tbody>\n",
       "    <tr>\n",
       "      <th>0</th>\n",
       "      <td>0-10%</td>\n",
       "      <td>2.633220e+04</td>\n",
       "    </tr>\n",
       "    <tr>\n",
       "      <th>1</th>\n",
       "      <td>40%+</td>\n",
       "      <td>2.229106e+06</td>\n",
       "    </tr>\n",
       "  </tbody>\n",
       "</table>\n",
       "</div>"
      ],
      "text/plain": [
       "  Discount_Range   Total_Sales\n",
       "0          0-10%  2.633220e+04\n",
       "1           40%+  2.229106e+06"
      ]
     },
     "execution_count": 9,
     "metadata": {},
     "output_type": "execute_result"
    }
   ],
   "source": [
    "df_discount = pd.read_sql(sql_discount, conn)\n",
    "df_discount"
   ]
  },
  {
   "cell_type": "code",
   "execution_count": 11,
   "metadata": {},
   "outputs": [],
   "source": [
    "sql_trend = \"\"\"\n",
    "SELECT \n",
    "    order_year\n",
    "    ,order_month\n",
    "    ,SUM(total_sales) AS Total_Sales\n",
    "FROM\n",
    "    retail_sales_cleaned_3\n",
    "GROUP BY\n",
    "    order_year\n",
    "    ,order_month\n",
    "ORDER BY\n",
    "    order_year\n",
    "    ,order_month\n",
    "\"\"\""
   ]
  },
  {
   "cell_type": "code",
   "execution_count": 12,
   "metadata": {},
   "outputs": [
    {
     "name": "stderr",
     "output_type": "stream",
     "text": [
      "C:\\Users\\GIGABYTE\\AppData\\Local\\Temp\\ipykernel_12660\\3555986967.py:1: UserWarning: pandas only supports SQLAlchemy connectable (engine/connection) or database string URI or sqlite3 DBAPI2 connection. Other DBAPI2 objects are not tested. Please consider using SQLAlchemy.\n",
      "  df_trend = pd.read_sql(sql_trend, conn)\n"
     ]
    },
    {
     "data": {
      "application/vnd.microsoft.datawrangler.viewer.v0+json": {
       "columns": [
        {
         "name": "index",
         "rawType": "int64",
         "type": "integer"
        },
        {
         "name": "order_year",
         "rawType": "float64",
         "type": "float"
        },
        {
         "name": "order_month",
         "rawType": "float64",
         "type": "float"
        },
        {
         "name": "Total_Sales",
         "rawType": "float64",
         "type": "float"
        }
       ],
       "ref": "380f49dd-1f47-4ae9-9b29-e71517bf5094",
       "rows": [
        [
         "0",
         null,
         null,
         "107341.00025177002"
        ],
        [
         "1",
         "2024.0",
         "1.0",
         "114601.49658966064"
        ],
        [
         "2",
         "2024.0",
         "2.0",
         "137709.42852783203"
        ],
        [
         "3",
         "2024.0",
         "3.0",
         "120799.0450000763"
        ],
        [
         "4",
         "2024.0",
         "4.0",
         "127834.15734863281"
        ],
        [
         "5",
         "2024.0",
         "5.0",
         "130109.09216308594"
        ],
        [
         "6",
         "2024.0",
         "6.0",
         "127870.70615386963"
        ],
        [
         "7",
         "2024.0",
         "7.0",
         "98606.60052490234"
        ],
        [
         "8",
         "2024.0",
         "8.0",
         "142156.4059753418"
        ],
        [
         "9",
         "2024.0",
         "9.0",
         "116686.9567489624"
        ],
        [
         "10",
         "2024.0",
         "10.0",
         "137796.41207885742"
        ],
        [
         "11",
         "2024.0",
         "11.0",
         "139599.87744140625"
        ],
        [
         "12",
         "2024.0",
         "12.0",
         "130187.09216308594"
        ],
        [
         "13",
         "2025.0",
         "1.0",
         "141553.71004486084"
        ],
        [
         "14",
         "2025.0",
         "2.0",
         "114177.38720703125"
        ],
        [
         "15",
         "2025.0",
         "3.0",
         "150688.19177246094"
        ],
        [
         "16",
         "2025.0",
         "4.0",
         "150805.65405273438"
        ],
        [
         "17",
         "2025.0",
         "5.0",
         "66914.59753417969"
        ]
       ],
       "shape": {
        "columns": 3,
        "rows": 18
       }
      },
      "text/html": [
       "<div>\n",
       "<style scoped>\n",
       "    .dataframe tbody tr th:only-of-type {\n",
       "        vertical-align: middle;\n",
       "    }\n",
       "\n",
       "    .dataframe tbody tr th {\n",
       "        vertical-align: top;\n",
       "    }\n",
       "\n",
       "    .dataframe thead th {\n",
       "        text-align: right;\n",
       "    }\n",
       "</style>\n",
       "<table border=\"1\" class=\"dataframe\">\n",
       "  <thead>\n",
       "    <tr style=\"text-align: right;\">\n",
       "      <th></th>\n",
       "      <th>order_year</th>\n",
       "      <th>order_month</th>\n",
       "      <th>Total_Sales</th>\n",
       "    </tr>\n",
       "  </thead>\n",
       "  <tbody>\n",
       "    <tr>\n",
       "      <th>0</th>\n",
       "      <td>NaN</td>\n",
       "      <td>NaN</td>\n",
       "      <td>107341.000252</td>\n",
       "    </tr>\n",
       "    <tr>\n",
       "      <th>1</th>\n",
       "      <td>2024.0</td>\n",
       "      <td>1.0</td>\n",
       "      <td>114601.496590</td>\n",
       "    </tr>\n",
       "    <tr>\n",
       "      <th>2</th>\n",
       "      <td>2024.0</td>\n",
       "      <td>2.0</td>\n",
       "      <td>137709.428528</td>\n",
       "    </tr>\n",
       "    <tr>\n",
       "      <th>3</th>\n",
       "      <td>2024.0</td>\n",
       "      <td>3.0</td>\n",
       "      <td>120799.045000</td>\n",
       "    </tr>\n",
       "    <tr>\n",
       "      <th>4</th>\n",
       "      <td>2024.0</td>\n",
       "      <td>4.0</td>\n",
       "      <td>127834.157349</td>\n",
       "    </tr>\n",
       "    <tr>\n",
       "      <th>5</th>\n",
       "      <td>2024.0</td>\n",
       "      <td>5.0</td>\n",
       "      <td>130109.092163</td>\n",
       "    </tr>\n",
       "    <tr>\n",
       "      <th>6</th>\n",
       "      <td>2024.0</td>\n",
       "      <td>6.0</td>\n",
       "      <td>127870.706154</td>\n",
       "    </tr>\n",
       "    <tr>\n",
       "      <th>7</th>\n",
       "      <td>2024.0</td>\n",
       "      <td>7.0</td>\n",
       "      <td>98606.600525</td>\n",
       "    </tr>\n",
       "    <tr>\n",
       "      <th>8</th>\n",
       "      <td>2024.0</td>\n",
       "      <td>8.0</td>\n",
       "      <td>142156.405975</td>\n",
       "    </tr>\n",
       "    <tr>\n",
       "      <th>9</th>\n",
       "      <td>2024.0</td>\n",
       "      <td>9.0</td>\n",
       "      <td>116686.956749</td>\n",
       "    </tr>\n",
       "    <tr>\n",
       "      <th>10</th>\n",
       "      <td>2024.0</td>\n",
       "      <td>10.0</td>\n",
       "      <td>137796.412079</td>\n",
       "    </tr>\n",
       "    <tr>\n",
       "      <th>11</th>\n",
       "      <td>2024.0</td>\n",
       "      <td>11.0</td>\n",
       "      <td>139599.877441</td>\n",
       "    </tr>\n",
       "    <tr>\n",
       "      <th>12</th>\n",
       "      <td>2024.0</td>\n",
       "      <td>12.0</td>\n",
       "      <td>130187.092163</td>\n",
       "    </tr>\n",
       "    <tr>\n",
       "      <th>13</th>\n",
       "      <td>2025.0</td>\n",
       "      <td>1.0</td>\n",
       "      <td>141553.710045</td>\n",
       "    </tr>\n",
       "    <tr>\n",
       "      <th>14</th>\n",
       "      <td>2025.0</td>\n",
       "      <td>2.0</td>\n",
       "      <td>114177.387207</td>\n",
       "    </tr>\n",
       "    <tr>\n",
       "      <th>15</th>\n",
       "      <td>2025.0</td>\n",
       "      <td>3.0</td>\n",
       "      <td>150688.191772</td>\n",
       "    </tr>\n",
       "    <tr>\n",
       "      <th>16</th>\n",
       "      <td>2025.0</td>\n",
       "      <td>4.0</td>\n",
       "      <td>150805.654053</td>\n",
       "    </tr>\n",
       "    <tr>\n",
       "      <th>17</th>\n",
       "      <td>2025.0</td>\n",
       "      <td>5.0</td>\n",
       "      <td>66914.597534</td>\n",
       "    </tr>\n",
       "  </tbody>\n",
       "</table>\n",
       "</div>"
      ],
      "text/plain": [
       "    order_year  order_month    Total_Sales\n",
       "0          NaN          NaN  107341.000252\n",
       "1       2024.0          1.0  114601.496590\n",
       "2       2024.0          2.0  137709.428528\n",
       "3       2024.0          3.0  120799.045000\n",
       "4       2024.0          4.0  127834.157349\n",
       "5       2024.0          5.0  130109.092163\n",
       "6       2024.0          6.0  127870.706154\n",
       "7       2024.0          7.0   98606.600525\n",
       "8       2024.0          8.0  142156.405975\n",
       "9       2024.0          9.0  116686.956749\n",
       "10      2024.0         10.0  137796.412079\n",
       "11      2024.0         11.0  139599.877441\n",
       "12      2024.0         12.0  130187.092163\n",
       "13      2025.0          1.0  141553.710045\n",
       "14      2025.0          2.0  114177.387207\n",
       "15      2025.0          3.0  150688.191772\n",
       "16      2025.0          4.0  150805.654053\n",
       "17      2025.0          5.0   66914.597534"
      ]
     },
     "execution_count": 12,
     "metadata": {},
     "output_type": "execute_result"
    }
   ],
   "source": [
    "df_trend = pd.read_sql(sql_trend, conn)\n",
    "df_trend"
   ]
  },
  {
   "cell_type": "code",
   "execution_count": 16,
   "metadata": {},
   "outputs": [],
   "source": [
    "# Compute Profit Margin at transaction-level first\n",
    "df_trend['Total_Profit'] = df_trend['Total_Sales'] * 0.3\n",
    "df_trend['Profit_margin'] = df_trend['Total_Profit'] / df_trend['Total_Sales']"
   ]
  },
  {
   "cell_type": "code",
   "execution_count": 25,
   "metadata": {},
   "outputs": [
    {
     "name": "stdout",
     "output_type": "stream",
     "text": [
      "Correlation across discount buckets: nan\n"
     ]
    },
    {
     "name": "stderr",
     "output_type": "stream",
     "text": [
      "c:\\Users\\GIGABYTE\\anaconda3\\Lib\\site-packages\\numpy\\lib\\function_base.py:2897: RuntimeWarning: invalid value encountered in divide\n",
      "  c /= stddev[:, None]\n",
      "c:\\Users\\GIGABYTE\\anaconda3\\Lib\\site-packages\\numpy\\lib\\function_base.py:2898: RuntimeWarning: invalid value encountered in divide\n",
      "  c /= stddev[None, :]\n"
     ]
    }
   ],
   "source": [
    "df_trend[\"Profit_Margin\"] = df_trend[\"Total_Profit\"] / df_trend[\"Total_Sales\"]\n",
    "\n",
    "# Correlation across buckets\n",
    "correlation = df_trend[\"Total_Sales\"].corr(df_trend[\"Profit_Margin\"])\n",
    "print(\"Correlation across discount buckets:\", correlation)\n",
    "\n"
   ]
  },
  {
   "cell_type": "code",
   "execution_count": 30,
   "metadata": {},
   "outputs": [
    {
     "data": {
      "image/png": "[encoded data removed]",
      "text/plain": [
       "<Figure size 1200x600 with 1 Axes>"
      ]
     },
     "metadata": {},
     "output_type": "display_data"
    }
   ],
   "source": [
    "plt.figure(figsize=(12,6))\n",
    "sns.regplot(\n",
    "    x=\"Total_Sales\",   \n",
    "    y=\"Profit_Margin\",\n",
    "    data=df_trend,\n",
    "    scatter_kws={\"alpha\":0.5},\n",
    "    line_kws={\"color\":\"red\"}\n",
    ")\n",
    "plt.title(\"Profit Margin vs Sales Trend\")\n",
    "plt.xlabel(\"Total Sales\")\n",
    "plt.ylabel(\"Profit Margin\")\n",
    "plt.show()"
   ]
  },
  {
   "cell_type": "code",
   "execution_count": 29,
   "metadata": {},
   "outputs": [
    {
     "name": "stdout",
     "output_type": "stream",
     "text": [
      "Index(['order_year', 'order_month', 'Total_Sales', 'Total_Profit',\n",
      "       'Profit_margin', 'Profit_Margin'],\n",
      "      dtype='object')\n"
     ]
    }
   ],
   "source": [
    "print(df_trend.columns)\n"
   ]
  },
  {
   "cell_type": "code",
   "execution_count": 33,
   "metadata": {},
   "outputs": [
    {
     "data": {
      "image/png": "[encoded data removed]",
      "text/plain": [
       "<Figure size 1200x600 with 1 Axes>"
      ]
     },
     "metadata": {},
     "output_type": "display_data"
    }
   ],
   "source": [
    "plt.figure(figsize=(12,6))\n",
    "sns.boxplot(\n",
    "    x=\"order_month\", \n",
    "    y=\"Profit_Margin\", \n",
    "    data=df_trend\n",
    ")\n",
    "plt.title(\"Profit Margin by Month\")\n",
    "plt.show()\n",
    "\n"
   ]
  }
 ],
 "metadata": {
  "kernelspec": {
   "display_name": "base",
   "language": "python",
   "name": "python3"
  },
  "language_info": {
   "codemirror_mode": {
    "name": "ipython",
    "version": 3
   },
   "file_extension": ".py",
   "mimetype": "text/x-python",
   "name": "python",
   "nbconvert_exporter": "python",
   "pygments_lexer": "ipython3",
   "version": "3.12.7"
  }
 },
 "nbformat": 4,
 "nbformat_minor": 2
}
