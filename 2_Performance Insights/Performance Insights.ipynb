{
 "cells": [
  {
   "cell_type": "markdown",
   "metadata": {},
   "source": [
    "Import Libraies"
   ]
  },
  {
   "cell_type": "code",
   "execution_count": 1,
   "metadata": {},
   "outputs": [],
   "source": [
    "import pypyodbc as odbc\n",
    "import pandas as pd\n",
    "import matplotlib.pyplot as plt\n",
    "import seaborn as sns"
   ]
  },
  {
   "cell_type": "markdown",
   "metadata": {},
   "source": [
    "Connect to SQL Server"
   ]
  },
  {
   "cell_type": "code",
   "execution_count": 12,
   "metadata": {},
   "outputs": [
    {
     "name": "stdout",
     "output_type": "stream",
     "text": [
      "Connected successfully!\n"
     ]
    }
   ],
   "source": [
    "DRIVER_NAME = 'ODBC Driver 17 for SQL Server'\n",
    "SERVER_NAME = r'DESKTOP-L3GBMQ5\\SQLEXPRESS'\n",
    "DATABASE_NAME = 'Case_Studies'\n",
    "\n",
    "connection_string = (\n",
    "    f\"DRIVER={{{DRIVER_NAME}}};\"\n",
    "    f\"SERVER={SERVER_NAME};\"\n",
    "    f\"DATABASE={DATABASE_NAME};\"\n",
    "    f\"Trusted_Connection=yes;\"\n",
    ")\n",
    "\n",
    "conn = odbc.connect(connection_string)\n",
    "print(\"Connected successfully!\")"
   ]
  },
  {
   "cell_type": "markdown",
   "metadata": {},
   "source": [
    "Sales Aggregation"
   ]
  },
  {
   "cell_type": "code",
   "execution_count": 17,
   "metadata": {},
   "outputs": [
    {
     "name": "stderr",
     "output_type": "stream",
     "text": [
      "C:\\Users\\GIGABYTE\\AppData\\Local\\Temp\\ipykernel_1644\\3795611977.py:17: UserWarning: pandas only supports SQLAlchemy connectable (engine/connection) or database string URI or sqlite3 DBAPI2 connection. Other DBAPI2 objects are not tested. Please consider using SQLAlchemy.\n",
      "  df_sales = pd.read_sql(query_sales, conn)\n"
     ]
    },
    {
     "data": {
      "application/vnd.microsoft.datawrangler.viewer.v0+json": {
       "columns": [
        {
         "name": "index",
         "rawType": "int64",
         "type": "integer"
        },
        {
         "name": "product_category",
         "rawType": "object",
         "type": "string"
        },
        {
         "name": "product_name",
         "rawType": "object",
         "type": "string"
        },
        {
         "name": "total_quantity",
         "rawType": "int64",
         "type": "integer"
        },
        {
         "name": "total_sales",
         "rawType": "float64",
         "type": "float"
        },
        {
         "name": "average_discount",
         "rawType": "int64",
         "type": "integer"
        }
       ],
       "ref": "c1f5dbe9-f7e1-4ebf-92d5-7fcc44bb55ef",
       "rows": [
        [
         "0",
         "Electronics",
         "Laptop",
         "140",
         "143728.99562072754",
         "14"
        ],
        [
         "1",
         "Electronics",
         "Sofa",
         "154",
         "128363.96072387695",
         "14"
        ],
        [
         "2",
         "Electronics",
         "Rice Bag",
         "115",
         "109615.40573120117",
         "16"
        ],
        [
         "3",
         "Electronics",
         "Headphones",
         "133",
         "102849.58894348145",
         "13"
        ],
        [
         "4",
         "Furnitre",
         "Laptop",
         "103",
         "99778.86029052734",
         "14"
        ],
        [
         "5",
         "Electronics",
         "T-Shirt",
         "141",
         "94158.1821899414",
         "13"
        ],
        [
         "6",
         "Groceries",
         "Laptop",
         "103",
         "91107.94915771484",
         "16"
        ],
        [
         "7",
         "Electronics",
         "Table",
         "87",
         "82379.50549316406",
         "18"
        ],
        [
         "8",
         "Groceries",
         "Headphones",
         "91",
         "79061.34564208984",
         "13"
        ],
        [
         "9",
         "Groceries",
         "Table",
         "74",
         "73137.39068603516",
         "16"
        ],
        [
         "10",
         "Furniture",
         "Sofa",
         "63",
         "73121.62377929688",
         "15"
        ],
        [
         "11",
         "Furniture",
         "Headphones",
         "93",
         "72992.3224029541",
         "11"
        ],
        [
         "12",
         "Furniture",
         "Laptop",
         "91",
         "68877.33051300049",
         "14"
        ],
        [
         "13",
         "Clothing",
         "Laptop",
         "107",
         "67066.98461914062",
         "16"
        ],
        [
         "14",
         "Furnitre",
         "Rice Bag",
         "76",
         "66893.96643066406",
         "14"
        ],
        [
         "15",
         "Clothing",
         "Table",
         "86",
         "66760.80401611328",
         "12"
        ],
        [
         "16",
         "Furnitre",
         "Sofa",
         "58",
         "64346.77331542969",
         "21"
        ],
        [
         "17",
         "Groceries",
         "Sofa",
         "92",
         "63090.2359085083",
         "17"
        ],
        [
         "18",
         "Furniture",
         "T-Shirt",
         "69",
         "57318.20266723633",
         "15"
        ],
        [
         "19",
         "Furnitre",
         "T-Shirt",
         "77",
         "56025.36715698242",
         "18"
        ],
        [
         "20",
         "Groceries",
         "T-Shirt",
         "74",
         "56010.68275642395",
         "18"
        ],
        [
         "21",
         "Furnitre",
         "Table",
         "63",
         "54763.52587890625",
         "16"
        ],
        [
         "22",
         "Furnitre",
         "Headphones",
         "63",
         "53122.081939697266",
         "14"
        ],
        [
         "23",
         "Furniture",
         "Rice Bag",
         "55",
         "52782.748275756836",
         "12"
        ],
        [
         "24",
         "Clothing",
         "Sofa",
         "65",
         "51583.10372924805",
         "11"
        ]
       ],
       "shape": {
        "columns": 5,
        "rows": 25
       }
      },
      "text/html": [
       "<div>\n",
       "<style scoped>\n",
       "    .dataframe tbody tr th:only-of-type {\n",
       "        vertical-align: middle;\n",
       "    }\n",
       "\n",
       "    .dataframe tbody tr th {\n",
       "        vertical-align: top;\n",
       "    }\n",
       "\n",
       "    .dataframe thead th {\n",
       "        text-align: right;\n",
       "    }\n",
       "</style>\n",
       "<table border=\"1\" class=\"dataframe\">\n",
       "  <thead>\n",
       "    <tr style=\"text-align: right;\">\n",
       "      <th></th>\n",
       "      <th>product_category</th>\n",
       "      <th>product_name</th>\n",
       "      <th>total_quantity</th>\n",
       "      <th>total_sales</th>\n",
       "      <th>average_discount</th>\n",
       "    </tr>\n",
       "  </thead>\n",
       "  <tbody>\n",
       "    <tr>\n",
       "      <th>0</th>\n",
       "      <td>Electronics</td>\n",
       "      <td>Laptop</td>\n",
       "      <td>140</td>\n",
       "      <td>143728.995621</td>\n",
       "      <td>14</td>\n",
       "    </tr>\n",
       "    <tr>\n",
       "      <th>1</th>\n",
       "      <td>Electronics</td>\n",
       "      <td>Sofa</td>\n",
       "      <td>154</td>\n",
       "      <td>128363.960724</td>\n",
       "      <td>14</td>\n",
       "    </tr>\n",
       "    <tr>\n",
       "      <th>2</th>\n",
       "      <td>Electronics</td>\n",
       "      <td>Rice Bag</td>\n",
       "      <td>115</td>\n",
       "      <td>109615.405731</td>\n",
       "      <td>16</td>\n",
       "    </tr>\n",
       "    <tr>\n",
       "      <th>3</th>\n",
       "      <td>Electronics</td>\n",
       "      <td>Headphones</td>\n",
       "      <td>133</td>\n",
       "      <td>102849.588943</td>\n",
       "      <td>13</td>\n",
       "    </tr>\n",
       "    <tr>\n",
       "      <th>4</th>\n",
       "      <td>Furnitre</td>\n",
       "      <td>Laptop</td>\n",
       "      <td>103</td>\n",
       "      <td>99778.860291</td>\n",
       "      <td>14</td>\n",
       "    </tr>\n",
       "    <tr>\n",
       "      <th>5</th>\n",
       "      <td>Electronics</td>\n",
       "      <td>T-Shirt</td>\n",
       "      <td>141</td>\n",
       "      <td>94158.182190</td>\n",
       "      <td>13</td>\n",
       "    </tr>\n",
       "    <tr>\n",
       "      <th>6</th>\n",
       "      <td>Groceries</td>\n",
       "      <td>Laptop</td>\n",
       "      <td>103</td>\n",
       "      <td>91107.949158</td>\n",
       "      <td>16</td>\n",
       "    </tr>\n",
       "    <tr>\n",
       "      <th>7</th>\n",
       "      <td>Electronics</td>\n",
       "      <td>Table</td>\n",
       "      <td>87</td>\n",
       "      <td>82379.505493</td>\n",
       "      <td>18</td>\n",
       "    </tr>\n",
       "    <tr>\n",
       "      <th>8</th>\n",
       "      <td>Groceries</td>\n",
       "      <td>Headphones</td>\n",
       "      <td>91</td>\n",
       "      <td>79061.345642</td>\n",
       "      <td>13</td>\n",
       "    </tr>\n",
       "    <tr>\n",
       "      <th>9</th>\n",
       "      <td>Groceries</td>\n",
       "      <td>Table</td>\n",
       "      <td>74</td>\n",
       "      <td>73137.390686</td>\n",
       "      <td>16</td>\n",
       "    </tr>\n",
       "    <tr>\n",
       "      <th>10</th>\n",
       "      <td>Furniture</td>\n",
       "      <td>Sofa</td>\n",
       "      <td>63</td>\n",
       "      <td>73121.623779</td>\n",
       "      <td>15</td>\n",
       "    </tr>\n",
       "    <tr>\n",
       "      <th>11</th>\n",
       "      <td>Furniture</td>\n",
       "      <td>Headphones</td>\n",
       "      <td>93</td>\n",
       "      <td>72992.322403</td>\n",
       "      <td>11</td>\n",
       "    </tr>\n",
       "    <tr>\n",
       "      <th>12</th>\n",
       "      <td>Furniture</td>\n",
       "      <td>Laptop</td>\n",
       "      <td>91</td>\n",
       "      <td>68877.330513</td>\n",
       "      <td>14</td>\n",
       "    </tr>\n",
       "    <tr>\n",
       "      <th>13</th>\n",
       "      <td>Clothing</td>\n",
       "      <td>Laptop</td>\n",
       "      <td>107</td>\n",
       "      <td>67066.984619</td>\n",
       "      <td>16</td>\n",
       "    </tr>\n",
       "    <tr>\n",
       "      <th>14</th>\n",
       "      <td>Furnitre</td>\n",
       "      <td>Rice Bag</td>\n",
       "      <td>76</td>\n",
       "      <td>66893.966431</td>\n",
       "      <td>14</td>\n",
       "    </tr>\n",
       "    <tr>\n",
       "      <th>15</th>\n",
       "      <td>Clothing</td>\n",
       "      <td>Table</td>\n",
       "      <td>86</td>\n",
       "      <td>66760.804016</td>\n",
       "      <td>12</td>\n",
       "    </tr>\n",
       "    <tr>\n",
       "      <th>16</th>\n",
       "      <td>Furnitre</td>\n",
       "      <td>Sofa</td>\n",
       "      <td>58</td>\n",
       "      <td>64346.773315</td>\n",
       "      <td>21</td>\n",
       "    </tr>\n",
       "    <tr>\n",
       "      <th>17</th>\n",
       "      <td>Groceries</td>\n",
       "      <td>Sofa</td>\n",
       "      <td>92</td>\n",
       "      <td>63090.235909</td>\n",
       "      <td>17</td>\n",
       "    </tr>\n",
       "    <tr>\n",
       "      <th>18</th>\n",
       "      <td>Furniture</td>\n",
       "      <td>T-Shirt</td>\n",
       "      <td>69</td>\n",
       "      <td>57318.202667</td>\n",
       "      <td>15</td>\n",
       "    </tr>\n",
       "    <tr>\n",
       "      <th>19</th>\n",
       "      <td>Furnitre</td>\n",
       "      <td>T-Shirt</td>\n",
       "      <td>77</td>\n",
       "      <td>56025.367157</td>\n",
       "      <td>18</td>\n",
       "    </tr>\n",
       "    <tr>\n",
       "      <th>20</th>\n",
       "      <td>Groceries</td>\n",
       "      <td>T-Shirt</td>\n",
       "      <td>74</td>\n",
       "      <td>56010.682756</td>\n",
       "      <td>18</td>\n",
       "    </tr>\n",
       "    <tr>\n",
       "      <th>21</th>\n",
       "      <td>Furnitre</td>\n",
       "      <td>Table</td>\n",
       "      <td>63</td>\n",
       "      <td>54763.525879</td>\n",
       "      <td>16</td>\n",
       "    </tr>\n",
       "    <tr>\n",
       "      <th>22</th>\n",
       "      <td>Furnitre</td>\n",
       "      <td>Headphones</td>\n",
       "      <td>63</td>\n",
       "      <td>53122.081940</td>\n",
       "      <td>14</td>\n",
       "    </tr>\n",
       "    <tr>\n",
       "      <th>23</th>\n",
       "      <td>Furniture</td>\n",
       "      <td>Rice Bag</td>\n",
       "      <td>55</td>\n",
       "      <td>52782.748276</td>\n",
       "      <td>12</td>\n",
       "    </tr>\n",
       "    <tr>\n",
       "      <th>24</th>\n",
       "      <td>Clothing</td>\n",
       "      <td>Sofa</td>\n",
       "      <td>65</td>\n",
       "      <td>51583.103729</td>\n",
       "      <td>11</td>\n",
       "    </tr>\n",
       "  </tbody>\n",
       "</table>\n",
       "</div>"
      ],
      "text/plain": [
       "   product_category product_name  total_quantity    total_sales  \\\n",
       "0       Electronics       Laptop             140  143728.995621   \n",
       "1       Electronics         Sofa             154  128363.960724   \n",
       "2       Electronics     Rice Bag             115  109615.405731   \n",
       "3       Electronics   Headphones             133  102849.588943   \n",
       "4          Furnitre       Laptop             103   99778.860291   \n",
       "5       Electronics      T-Shirt             141   94158.182190   \n",
       "6         Groceries       Laptop             103   91107.949158   \n",
       "7       Electronics        Table              87   82379.505493   \n",
       "8         Groceries   Headphones              91   79061.345642   \n",
       "9         Groceries        Table              74   73137.390686   \n",
       "10        Furniture         Sofa              63   73121.623779   \n",
       "11        Furniture   Headphones              93   72992.322403   \n",
       "12        Furniture       Laptop              91   68877.330513   \n",
       "13         Clothing       Laptop             107   67066.984619   \n",
       "14         Furnitre     Rice Bag              76   66893.966431   \n",
       "15         Clothing        Table              86   66760.804016   \n",
       "16         Furnitre         Sofa              58   64346.773315   \n",
       "17        Groceries         Sofa              92   63090.235909   \n",
       "18        Furniture      T-Shirt              69   57318.202667   \n",
       "19         Furnitre      T-Shirt              77   56025.367157   \n",
       "20        Groceries      T-Shirt              74   56010.682756   \n",
       "21         Furnitre        Table              63   54763.525879   \n",
       "22         Furnitre   Headphones              63   53122.081940   \n",
       "23        Furniture     Rice Bag              55   52782.748276   \n",
       "24         Clothing         Sofa              65   51583.103729   \n",
       "\n",
       "    average_discount  \n",
       "0                 14  \n",
       "1                 14  \n",
       "2                 16  \n",
       "3                 13  \n",
       "4                 14  \n",
       "5                 13  \n",
       "6                 16  \n",
       "7                 18  \n",
       "8                 13  \n",
       "9                 16  \n",
       "10                15  \n",
       "11                11  \n",
       "12                14  \n",
       "13                16  \n",
       "14                14  \n",
       "15                12  \n",
       "16                21  \n",
       "17                17  \n",
       "18                15  \n",
       "19                18  \n",
       "20                18  \n",
       "21                16  \n",
       "22                14  \n",
       "23                12  \n",
       "24                11  "
      ]
     },
     "execution_count": 17,
     "metadata": {},
     "output_type": "execute_result"
    }
   ],
   "source": [
    "query_sales = \"\"\"\n",
    "SELECT\n",
    "    Product_Category\n",
    "    ,Product_Name\n",
    "    ,SUM(Quantity) AS Total_Quantity\n",
    "    ,SUM(Total_Sales) AS Total_Sales\n",
    "    ,AVG(DATEDIFF(MINUTE, '00:00:00', Discount)) AS Average_Discount\n",
    "FROM \n",
    "    dbo.retail_sales_cleaned\n",
    "GROUP BY\n",
    "    Product_Category\n",
    "    ,Product_Name\n",
    "ORDER BY\n",
    "    Total_Sales DESC\n",
    "\"\"\"\n",
    "\n",
    "df_sales = pd.read_sql(query_sales, conn)\n",
    "df_sales.head(25)"
   ]
  },
  {
   "cell_type": "markdown",
   "metadata": {},
   "source": [
    "Top 10 and Bottom 10 Products by Sales"
   ]
  },
  {
   "cell_type": "code",
   "execution_count": null,
   "metadata": {},
   "outputs": [
    {
     "name": "stdout",
     "output_type": "stream",
     "text": [
      "Top 10 Products by Sales:\n"
     ]
    },
    {
     "data": {
      "application/vnd.microsoft.datawrangler.viewer.v0+json": {
       "columns": [
        {
         "name": "index",
         "rawType": "int64",
         "type": "integer"
        },
        {
         "name": "product_category",
         "rawType": "object",
         "type": "string"
        },
        {
         "name": "product_name",
         "rawType": "object",
         "type": "string"
        },
        {
         "name": "total_quantity",
         "rawType": "int64",
         "type": "integer"
        },
        {
         "name": "total_sales",
         "rawType": "float64",
         "type": "float"
        },
        {
         "name": "average_discount",
         "rawType": "int64",
         "type": "integer"
        }
       ],
       "ref": "e7a6c1c9-7d30-4007-a825-b0977c873bee",
       "rows": [
        [
         "0",
         "Electronics",
         "Laptop",
         "140",
         "143728.99562072754",
         "14"
        ],
        [
         "1",
         "Electronics",
         "Sofa",
         "154",
         "128363.96072387695",
         "14"
        ],
        [
         "2",
         "Electronics",
         "Rice Bag",
         "115",
         "109615.40573120117",
         "16"
        ],
        [
         "3",
         "Electronics",
         "Headphones",
         "133",
         "102849.58894348145",
         "13"
        ],
        [
         "4",
         "Furnitre",
         "Laptop",
         "103",
         "99778.86029052734",
         "14"
        ],
        [
         "5",
         "Electronics",
         "T-Shirt",
         "141",
         "94158.1821899414",
         "13"
        ],
        [
         "6",
         "Groceries",
         "Laptop",
         "103",
         "91107.94915771484",
         "16"
        ],
        [
         "7",
         "Electronics",
         "Table",
         "87",
         "82379.50549316406",
         "18"
        ],
        [
         "8",
         "Groceries",
         "Headphones",
         "91",
         "79061.34564208984",
         "13"
        ],
        [
         "9",
         "Groceries",
         "Table",
         "74",
         "73137.39068603516",
         "16"
        ]
       ],
       "shape": {
        "columns": 5,
        "rows": 10
       }
      },
      "text/html": [
       "<div>\n",
       "<style scoped>\n",
       "    .dataframe tbody tr th:only-of-type {\n",
       "        vertical-align: middle;\n",
       "    }\n",
       "\n",
       "    .dataframe tbody tr th {\n",
       "        vertical-align: top;\n",
       "    }\n",
       "\n",
       "    .dataframe thead th {\n",
       "        text-align: right;\n",
       "    }\n",
       "</style>\n",
       "<table border=\"1\" class=\"dataframe\">\n",
       "  <thead>\n",
       "    <tr style=\"text-align: right;\">\n",
       "      <th></th>\n",
       "      <th>product_category</th>\n",
       "      <th>product_name</th>\n",
       "      <th>total_quantity</th>\n",
       "      <th>total_sales</th>\n",
       "      <th>average_discount</th>\n",
       "    </tr>\n",
       "  </thead>\n",
       "  <tbody>\n",
       "    <tr>\n",
       "      <th>0</th>\n",
       "      <td>Electronics</td>\n",
       "      <td>Laptop</td>\n",
       "      <td>140</td>\n",
       "      <td>143728.995621</td>\n",
       "      <td>14</td>\n",
       "    </tr>\n",
       "    <tr>\n",
       "      <th>1</th>\n",
       "      <td>Electronics</td>\n",
       "      <td>Sofa</td>\n",
       "      <td>154</td>\n",
       "      <td>128363.960724</td>\n",
       "      <td>14</td>\n",
       "    </tr>\n",
       "    <tr>\n",
       "      <th>2</th>\n",
       "      <td>Electronics</td>\n",
       "      <td>Rice Bag</td>\n",
       "      <td>115</td>\n",
       "      <td>109615.405731</td>\n",
       "      <td>16</td>\n",
       "    </tr>\n",
       "    <tr>\n",
       "      <th>3</th>\n",
       "      <td>Electronics</td>\n",
       "      <td>Headphones</td>\n",
       "      <td>133</td>\n",
       "      <td>102849.588943</td>\n",
       "      <td>13</td>\n",
       "    </tr>\n",
       "    <tr>\n",
       "      <th>4</th>\n",
       "      <td>Furnitre</td>\n",
       "      <td>Laptop</td>\n",
       "      <td>103</td>\n",
       "      <td>99778.860291</td>\n",
       "      <td>14</td>\n",
       "    </tr>\n",
       "    <tr>\n",
       "      <th>5</th>\n",
       "      <td>Electronics</td>\n",
       "      <td>T-Shirt</td>\n",
       "      <td>141</td>\n",
       "      <td>94158.182190</td>\n",
       "      <td>13</td>\n",
       "    </tr>\n",
       "    <tr>\n",
       "      <th>6</th>\n",
       "      <td>Groceries</td>\n",
       "      <td>Laptop</td>\n",
       "      <td>103</td>\n",
       "      <td>91107.949158</td>\n",
       "      <td>16</td>\n",
       "    </tr>\n",
       "    <tr>\n",
       "      <th>7</th>\n",
       "      <td>Electronics</td>\n",
       "      <td>Table</td>\n",
       "      <td>87</td>\n",
       "      <td>82379.505493</td>\n",
       "      <td>18</td>\n",
       "    </tr>\n",
       "    <tr>\n",
       "      <th>8</th>\n",
       "      <td>Groceries</td>\n",
       "      <td>Headphones</td>\n",
       "      <td>91</td>\n",
       "      <td>79061.345642</td>\n",
       "      <td>13</td>\n",
       "    </tr>\n",
       "    <tr>\n",
       "      <th>9</th>\n",
       "      <td>Groceries</td>\n",
       "      <td>Table</td>\n",
       "      <td>74</td>\n",
       "      <td>73137.390686</td>\n",
       "      <td>16</td>\n",
       "    </tr>\n",
       "  </tbody>\n",
       "</table>\n",
       "</div>"
      ],
      "text/plain": [
       "  product_category product_name  total_quantity    total_sales  \\\n",
       "0      Electronics       Laptop             140  143728.995621   \n",
       "1      Electronics         Sofa             154  128363.960724   \n",
       "2      Electronics     Rice Bag             115  109615.405731   \n",
       "3      Electronics   Headphones             133  102849.588943   \n",
       "4         Furnitre       Laptop             103   99778.860291   \n",
       "5      Electronics      T-Shirt             141   94158.182190   \n",
       "6        Groceries       Laptop             103   91107.949158   \n",
       "7      Electronics        Table              87   82379.505493   \n",
       "8        Groceries   Headphones              91   79061.345642   \n",
       "9        Groceries        Table              74   73137.390686   \n",
       "\n",
       "   average_discount  \n",
       "0                14  \n",
       "1                14  \n",
       "2                16  \n",
       "3                13  \n",
       "4                14  \n",
       "5                13  \n",
       "6                16  \n",
       "7                18  \n",
       "8                13  \n",
       "9                16  "
      ]
     },
     "execution_count": 20,
     "metadata": {},
     "output_type": "execute_result"
    }
   ],
   "source": [
    "# Top 10\n",
    "top_10_products = df_sales.nlargest(10, 'total_sales')\n",
    "print(\"Top 10 Products by Sales:\")\n",
    "top_10_products"
   ]
  },
  {
   "cell_type": "code",
   "execution_count": 21,
   "metadata": {},
   "outputs": [
    {
     "name": "stdout",
     "output_type": "stream",
     "text": [
      "Bottom 10 Products by Sales:\n"
     ]
    },
    {
     "data": {
      "application/vnd.microsoft.datawrangler.viewer.v0+json": {
       "columns": [
        {
         "name": "index",
         "rawType": "int64",
         "type": "integer"
        },
        {
         "name": "product_category",
         "rawType": "object",
         "type": "string"
        },
        {
         "name": "product_name",
         "rawType": "object",
         "type": "string"
        },
        {
         "name": "total_quantity",
         "rawType": "int64",
         "type": "integer"
        },
        {
         "name": "total_sales",
         "rawType": "float64",
         "type": "float"
        },
        {
         "name": "average_discount",
         "rawType": "int64",
         "type": "integer"
        }
       ],
       "ref": "bb2b81a2-f032-4687-966c-ecacdfac38b5",
       "rows": [
        [
         "35",
         "Other",
         "Headphones",
         "15",
         "6351.358428955078",
         "11"
        ],
        [
         "34",
         "Other",
         "Table",
         "7",
         "8649.3623046875",
         "16"
        ],
        [
         "33",
         "Other",
         "T-Shirt",
         "26",
         "18390.159423828125",
         "15"
        ],
        [
         "32",
         "Other",
         "Rice Bag",
         "25",
         "20458.365020751953",
         "20"
        ],
        [
         "31",
         "Other",
         "Laptop",
         "27",
         "21732.271240234375",
         "18"
        ],
        [
         "30",
         "Furniture",
         "Table",
         "25",
         "26455.498779296875",
         "15"
        ],
        [
         "29",
         "Other",
         "Sofa",
         "38",
         "35063.2744140625",
         "14"
        ],
        [
         "28",
         "Clothing",
         "Headphones",
         "52",
         "44373.209968566895",
         "13"
        ],
        [
         "27",
         "Groceries",
         "Rice Bag",
         "48",
         "44632.71813964844",
         "14"
        ],
        [
         "26",
         "Clothing",
         "Rice Bag",
         "66",
         "50195.4988861084",
         "14"
        ]
       ],
       "shape": {
        "columns": 5,
        "rows": 10
       }
      },
      "text/html": [
       "<div>\n",
       "<style scoped>\n",
       "    .dataframe tbody tr th:only-of-type {\n",
       "        vertical-align: middle;\n",
       "    }\n",
       "\n",
       "    .dataframe tbody tr th {\n",
       "        vertical-align: top;\n",
       "    }\n",
       "\n",
       "    .dataframe thead th {\n",
       "        text-align: right;\n",
       "    }\n",
       "</style>\n",
       "<table border=\"1\" class=\"dataframe\">\n",
       "  <thead>\n",
       "    <tr style=\"text-align: right;\">\n",
       "      <th></th>\n",
       "      <th>product_category</th>\n",
       "      <th>product_name</th>\n",
       "      <th>total_quantity</th>\n",
       "      <th>total_sales</th>\n",
       "      <th>average_discount</th>\n",
       "    </tr>\n",
       "  </thead>\n",
       "  <tbody>\n",
       "    <tr>\n",
       "      <th>35</th>\n",
       "      <td>Other</td>\n",
       "      <td>Headphones</td>\n",
       "      <td>15</td>\n",
       "      <td>6351.358429</td>\n",
       "      <td>11</td>\n",
       "    </tr>\n",
       "    <tr>\n",
       "      <th>34</th>\n",
       "      <td>Other</td>\n",
       "      <td>Table</td>\n",
       "      <td>7</td>\n",
       "      <td>8649.362305</td>\n",
       "      <td>16</td>\n",
       "    </tr>\n",
       "    <tr>\n",
       "      <th>33</th>\n",
       "      <td>Other</td>\n",
       "      <td>T-Shirt</td>\n",
       "      <td>26</td>\n",
       "      <td>18390.159424</td>\n",
       "      <td>15</td>\n",
       "    </tr>\n",
       "    <tr>\n",
       "      <th>32</th>\n",
       "      <td>Other</td>\n",
       "      <td>Rice Bag</td>\n",
       "      <td>25</td>\n",
       "      <td>20458.365021</td>\n",
       "      <td>20</td>\n",
       "    </tr>\n",
       "    <tr>\n",
       "      <th>31</th>\n",
       "      <td>Other</td>\n",
       "      <td>Laptop</td>\n",
       "      <td>27</td>\n",
       "      <td>21732.271240</td>\n",
       "      <td>18</td>\n",
       "    </tr>\n",
       "    <tr>\n",
       "      <th>30</th>\n",
       "      <td>Furniture</td>\n",
       "      <td>Table</td>\n",
       "      <td>25</td>\n",
       "      <td>26455.498779</td>\n",
       "      <td>15</td>\n",
       "    </tr>\n",
       "    <tr>\n",
       "      <th>29</th>\n",
       "      <td>Other</td>\n",
       "      <td>Sofa</td>\n",
       "      <td>38</td>\n",
       "      <td>35063.274414</td>\n",
       "      <td>14</td>\n",
       "    </tr>\n",
       "    <tr>\n",
       "      <th>28</th>\n",
       "      <td>Clothing</td>\n",
       "      <td>Headphones</td>\n",
       "      <td>52</td>\n",
       "      <td>44373.209969</td>\n",
       "      <td>13</td>\n",
       "    </tr>\n",
       "    <tr>\n",
       "      <th>27</th>\n",
       "      <td>Groceries</td>\n",
       "      <td>Rice Bag</td>\n",
       "      <td>48</td>\n",
       "      <td>44632.718140</td>\n",
       "      <td>14</td>\n",
       "    </tr>\n",
       "    <tr>\n",
       "      <th>26</th>\n",
       "      <td>Clothing</td>\n",
       "      <td>Rice Bag</td>\n",
       "      <td>66</td>\n",
       "      <td>50195.498886</td>\n",
       "      <td>14</td>\n",
       "    </tr>\n",
       "  </tbody>\n",
       "</table>\n",
       "</div>"
      ],
      "text/plain": [
       "   product_category product_name  total_quantity   total_sales  \\\n",
       "35            Other   Headphones              15   6351.358429   \n",
       "34            Other        Table               7   8649.362305   \n",
       "33            Other      T-Shirt              26  18390.159424   \n",
       "32            Other     Rice Bag              25  20458.365021   \n",
       "31            Other       Laptop              27  21732.271240   \n",
       "30        Furniture        Table              25  26455.498779   \n",
       "29            Other         Sofa              38  35063.274414   \n",
       "28         Clothing   Headphones              52  44373.209969   \n",
       "27        Groceries     Rice Bag              48  44632.718140   \n",
       "26         Clothing     Rice Bag              66  50195.498886   \n",
       "\n",
       "    average_discount  \n",
       "35                11  \n",
       "34                16  \n",
       "33                15  \n",
       "32                20  \n",
       "31                18  \n",
       "30                15  \n",
       "29                14  \n",
       "28                13  \n",
       "27                14  \n",
       "26                14  "
      ]
     },
     "execution_count": 21,
     "metadata": {},
     "output_type": "execute_result"
    }
   ],
   "source": [
    "# Bottom 10\n",
    "bottom_10_products = df_sales.nsmallest(10, 'total_sales')\n",
    "print(\"Bottom 10 Products by Sales:\")\n",
    "bottom_10_products"
   ]
  },
  {
   "cell_type": "markdown",
   "metadata": {},
   "source": [
    "Category Contribution to Total Sales"
   ]
  },
  {
   "cell_type": "code",
   "execution_count": 22,
   "metadata": {},
   "outputs": [],
   "source": [
    "# Total Sales Overall\n",
    "\n",
    "total_sales = df_sales['total_sales'].sum()"
   ]
  },
  {
   "cell_type": "code",
   "execution_count": 23,
   "metadata": {},
   "outputs": [],
   "source": [
    "# Group by category and calculate contribution\n",
    "category_sales = df_sales.groupby('product_category')['total_sales'].sum().reset_index()\n",
    "category_sales['contribution_pct'] = (category_sales['total_sales'] / total_sales) * 100"
   ]
  },
  {
   "cell_type": "code",
   "execution_count": 24,
   "metadata": {},
   "outputs": [
    {
     "data": {
      "application/vnd.microsoft.datawrangler.viewer.v0+json": {
       "columns": [
        {
         "name": "index",
         "rawType": "int64",
         "type": "integer"
        },
        {
         "name": "product_category",
         "rawType": "object",
         "type": "string"
        },
        {
         "name": "total_sales",
         "rawType": "float64",
         "type": "float"
        },
        {
         "name": "contribution_pct",
         "rawType": "float64",
         "type": "float"
        }
       ],
       "ref": "0d18e4b0-b21f-4dae-8030-f2a13c4faf7c",
       "rows": [
        [
         "1",
         "Electronics",
         "661095.6387023926",
         "29.3111889544692"
        ],
        [
         "4",
         "Groceries",
         "407040.32229042053",
         "18.04706475172119"
        ],
        [
         "2",
         "Furnitre",
         "394930.57501220703",
         "17.51015137658641"
        ],
        [
         "3",
         "Furniture",
         "351547.7264175415",
         "15.586673443745577"
        ],
        [
         "0",
         "Clothing",
         "330178.75832366943",
         "14.639231311483266"
        ],
        [
         "5",
         "Other",
         "110644.79083251953",
         "4.905690161994354"
        ]
       ],
       "shape": {
        "columns": 3,
        "rows": 6
       }
      },
      "text/html": [
       "<div>\n",
       "<style scoped>\n",
       "    .dataframe tbody tr th:only-of-type {\n",
       "        vertical-align: middle;\n",
       "    }\n",
       "\n",
       "    .dataframe tbody tr th {\n",
       "        vertical-align: top;\n",
       "    }\n",
       "\n",
       "    .dataframe thead th {\n",
       "        text-align: right;\n",
       "    }\n",
       "</style>\n",
       "<table border=\"1\" class=\"dataframe\">\n",
       "  <thead>\n",
       "    <tr style=\"text-align: right;\">\n",
       "      <th></th>\n",
       "      <th>product_category</th>\n",
       "      <th>total_sales</th>\n",
       "      <th>contribution_pct</th>\n",
       "    </tr>\n",
       "  </thead>\n",
       "  <tbody>\n",
       "    <tr>\n",
       "      <th>1</th>\n",
       "      <td>Electronics</td>\n",
       "      <td>661095.638702</td>\n",
       "      <td>29.311189</td>\n",
       "    </tr>\n",
       "    <tr>\n",
       "      <th>4</th>\n",
       "      <td>Groceries</td>\n",
       "      <td>407040.322290</td>\n",
       "      <td>18.047065</td>\n",
       "    </tr>\n",
       "    <tr>\n",
       "      <th>2</th>\n",
       "      <td>Furnitre</td>\n",
       "      <td>394930.575012</td>\n",
       "      <td>17.510151</td>\n",
       "    </tr>\n",
       "    <tr>\n",
       "      <th>3</th>\n",
       "      <td>Furniture</td>\n",
       "      <td>351547.726418</td>\n",
       "      <td>15.586673</td>\n",
       "    </tr>\n",
       "    <tr>\n",
       "      <th>0</th>\n",
       "      <td>Clothing</td>\n",
       "      <td>330178.758324</td>\n",
       "      <td>14.639231</td>\n",
       "    </tr>\n",
       "    <tr>\n",
       "      <th>5</th>\n",
       "      <td>Other</td>\n",
       "      <td>110644.790833</td>\n",
       "      <td>4.905690</td>\n",
       "    </tr>\n",
       "  </tbody>\n",
       "</table>\n",
       "</div>"
      ],
      "text/plain": [
       "  product_category    total_sales  contribution_pct\n",
       "1      Electronics  661095.638702         29.311189\n",
       "4        Groceries  407040.322290         18.047065\n",
       "2         Furnitre  394930.575012         17.510151\n",
       "3        Furniture  351547.726418         15.586673\n",
       "0         Clothing  330178.758324         14.639231\n",
       "5            Other  110644.790833          4.905690"
      ]
     },
     "execution_count": 24,
     "metadata": {},
     "output_type": "execute_result"
    }
   ],
   "source": [
    "# Sort descending\n",
    "category_sales = category_sales.sort_values(by='total_sales', ascending=False)\n",
    "category_sales"
   ]
  },
  {
   "cell_type": "markdown",
   "metadata": {},
   "source": [
    "Pareto Analsis (80/20)"
   ]
  },
  {
   "cell_type": "code",
   "execution_count": 25,
   "metadata": {},
   "outputs": [],
   "source": [
    "# Sort product by total_sales\n",
    "df_sales_sorted = df_sales.sort_values(by='total_sales', ascending=False)\n",
    "df_sales_sorted['cumulative_sales'] = df_sales_sorted['total_sales'].cumsum()\n",
    "df_sales_sorted['cumulative_pct'] = 100 * df_sales_sorted['cumulative_sales'] / total_sales"
   ]
  },
  {
   "cell_type": "code",
   "execution_count": 26,
   "metadata": {},
   "outputs": [],
   "source": [
    "sns.set_style(\"whitegrid\")\n",
    "plt.rcParams['figure.figsize'] = (12, 6)"
   ]
  },
  {
   "cell_type": "code",
   "execution_count": 29,
   "metadata": {},
   "outputs": [
    {
     "data": {
      "image/png": "[encoded data removed]",
      "text/plain": [
       "<Figure size 1400x600 with 1 Axes>"
      ]
     },
     "metadata": {},
     "output_type": "display_data"
    }
   ],
   "source": [
    "plt.figure(figsize=(14,6))\n",
    "sns.barplot(x='product_name', y='total_sales', data=df_sales_sorted.head(20), color='skyblue')\n",
    "plt.xticks(rotation=90)\n",
    "plt.title(\"Top 20 Products (Pareto Analysis)\")\n",
    "plt.ylabel(\"Total Sales\")\n",
    "plt.show()"
   ]
  },
  {
   "cell_type": "markdown",
   "metadata": {},
   "source": [
    "Monthly Sales Trend"
   ]
  },
  {
   "cell_type": "code",
   "execution_count": 30,
   "metadata": {},
   "outputs": [
    {
     "name": "stderr",
     "output_type": "stream",
     "text": [
      "C:\\Users\\GIGABYTE\\AppData\\Local\\Temp\\ipykernel_1644\\871881723.py:15: UserWarning: pandas only supports SQLAlchemy connectable (engine/connection) or database string URI or sqlite3 DBAPI2 connection. Other DBAPI2 objects are not tested. Please consider using SQLAlchemy.\n",
      "  df_monthly = pd.read_sql(query_monthly, conn)\n"
     ]
    }
   ],
   "source": [
    "query_monthly = \"\"\"\n",
    "SELECT\n",
    "    Order_year\n",
    "    ,Order_month\n",
    "    ,SUM(Total_Sales) AS Monthly_Sales\n",
    "FROM\n",
    "    dbo.retail_sales_cleaned\n",
    "GROUP BY\n",
    "    Order_year\n",
    "    ,Order_month\n",
    "ORDER BY\n",
    "    Order_year\n",
    "    ,Order_month\n",
    "\"\"\"\n",
    "df_monthly = pd.read_sql(query_monthly, conn)"
   ]
  },
  {
   "cell_type": "code",
   "execution_count": 32,
   "metadata": {},
   "outputs": [
    {
     "data": {
      "image/png": "[encoded data removed]",
      "text/plain": [
       "<Figure size 1400x600 with 1 Axes>"
      ]
     },
     "metadata": {},
     "output_type": "display_data"
    }
   ],
   "source": [
    "plt.figure(figsize=(14,6))\n",
    "sns.lineplot(data=df_monthly, x='order_month', y='monthly_sales', hue='order_year', marker='o')\n",
    "plt.title(\"Monthly Sales Trend\")\n",
    "plt.xlabel(\"Month\")\n",
    "plt.ylabel(\"Total Sales\")\n",
    "plt.show()"
   ]
  },
  {
   "cell_type": "markdown",
   "metadata": {},
   "source": [
    "Discount vs Sales Correlation"
   ]
  },
  {
   "cell_type": "code",
   "execution_count": 33,
   "metadata": {},
   "outputs": [
    {
     "name": "stdout",
     "output_type": "stream",
     "text": [
      "Correlation between Average Discount and Total Sales: -0.10\n"
     ]
    }
   ],
   "source": [
    "# Check correlation\n",
    "corr = df_sales['average_discount'].corr(df_sales['total_sales'])\n",
    "print(f\"Correlation between Average Discount and Total Sales: {corr:.2f}\")"
   ]
  },
  {
   "cell_type": "markdown",
   "metadata": {},
   "source": [
    "Extra Insights"
   ]
  },
  {
   "cell_type": "code",
   "execution_count": 34,
   "metadata": {},
   "outputs": [],
   "source": [
    "# Calculate return rate per product\n",
    "query_returns = \"\"\"\n",
    "SELECT\n",
    "    Product_Name\n",
    "    ,COUNT(*) AS Total_Orders\n",
    "    ,SUM(CASE WHEN Delivery_Status = 'Returned' THEN 1 ELSE 0 END) AS Total_Returns\n",
    "FROM\n",
    "    dbo.retail_sales_cleaned\n",
    "GROUP BY\n",
    "    Product_Name\n",
    "\"\"\""
   ]
  },
  {
   "cell_type": "code",
   "execution_count": 35,
   "metadata": {},
   "outputs": [
    {
     "name": "stderr",
     "output_type": "stream",
     "text": [
      "C:\\Users\\GIGABYTE\\AppData\\Local\\Temp\\ipykernel_1644\\761374040.py:1: UserWarning: pandas only supports SQLAlchemy connectable (engine/connection) or database string URI or sqlite3 DBAPI2 connection. Other DBAPI2 objects are not tested. Please consider using SQLAlchemy.\n",
      "  df_returns = pd.read_sql(query_returns, conn)\n"
     ]
    }
   ],
   "source": [
    "df_returns = pd.read_sql(query_returns, conn)\n",
    "df_returns['return_rate'] = (df_returns['total_returns'] / df_returns['total_orders']) * 100"
   ]
  },
  {
   "cell_type": "code",
   "execution_count": 36,
   "metadata": {},
   "outputs": [],
   "source": [
    "# Merge with sales data\n",
    "df_sales_returns = df_sales.merge(df_returns[['product_name', 'return_rate']], on='product_name', how='left')"
   ]
  },
  {
   "cell_type": "code",
   "execution_count": 37,
   "metadata": {},
   "outputs": [],
   "source": [
    "# Products with high sales & high returns\n",
    "high_sales_returns = df_sales_returns[(df_sales_returns['total_sales'] > df_sales_returns['total_sales'].mean())\n",
    "                                      & (df_sales_returns['return_rate'] > 10)]"
   ]
  },
  {
   "cell_type": "code",
   "execution_count": 38,
   "metadata": {},
   "outputs": [
    {
     "data": {
      "application/vnd.microsoft.datawrangler.viewer.v0+json": {
       "columns": [
        {
         "name": "index",
         "rawType": "int64",
         "type": "integer"
        },
        {
         "name": "product_category",
         "rawType": "object",
         "type": "string"
        },
        {
         "name": "product_name",
         "rawType": "object",
         "type": "string"
        },
        {
         "name": "total_quantity",
         "rawType": "int64",
         "type": "integer"
        },
        {
         "name": "total_sales",
         "rawType": "float64",
         "type": "float"
        },
        {
         "name": "average_discount",
         "rawType": "int64",
         "type": "integer"
        },
        {
         "name": "return_rate",
         "rawType": "float64",
         "type": "float"
        }
       ],
       "ref": "86028fa9-edf2-4475-89a7-694a95b48103",
       "rows": [
        [
         "0",
         "Electronics",
         "Laptop",
         "140",
         "143728.99562072754",
         "14",
         "30.693069306930692"
        ],
        [
         "1",
         "Electronics",
         "Sofa",
         "154",
         "128363.96072387695",
         "14",
         "20.481927710843372"
        ],
        [
         "2",
         "Electronics",
         "Rice Bag",
         "115",
         "109615.40573120117",
         "16",
         "26.38888888888889"
        ],
        [
         "3",
         "Electronics",
         "Headphones",
         "133",
         "102849.58894348145",
         "13",
         "27.710843373493976"
        ],
        [
         "4",
         "Furnitre",
         "Laptop",
         "103",
         "99778.86029052734",
         "14",
         "30.693069306930692"
        ],
        [
         "5",
         "Electronics",
         "T-Shirt",
         "141",
         "94158.1821899414",
         "13",
         "25.882352941176475"
        ],
        [
         "6",
         "Groceries",
         "Laptop",
         "103",
         "91107.94915771484",
         "16",
         "30.693069306930692"
        ],
        [
         "7",
         "Electronics",
         "Table",
         "87",
         "82379.50549316406",
         "18",
         "28.07017543859649"
        ],
        [
         "8",
         "Groceries",
         "Headphones",
         "91",
         "79061.34564208984",
         "13",
         "27.710843373493976"
        ],
        [
         "9",
         "Groceries",
         "Table",
         "74",
         "73137.39068603516",
         "16",
         "28.07017543859649"
        ],
        [
         "10",
         "Furniture",
         "Sofa",
         "63",
         "73121.62377929688",
         "15",
         "20.481927710843372"
        ],
        [
         "11",
         "Furniture",
         "Headphones",
         "93",
         "72992.3224029541",
         "11",
         "27.710843373493976"
        ],
        [
         "12",
         "Furniture",
         "Laptop",
         "91",
         "68877.33051300049",
         "14",
         "30.693069306930692"
        ],
        [
         "13",
         "Clothing",
         "Laptop",
         "107",
         "67066.98461914062",
         "16",
         "30.693069306930692"
        ],
        [
         "14",
         "Furnitre",
         "Rice Bag",
         "76",
         "66893.96643066406",
         "14",
         "26.38888888888889"
        ],
        [
         "15",
         "Clothing",
         "Table",
         "86",
         "66760.80401611328",
         "12",
         "28.07017543859649"
        ],
        [
         "16",
         "Furnitre",
         "Sofa",
         "58",
         "64346.77331542969",
         "21",
         "20.481927710843372"
        ],
        [
         "17",
         "Groceries",
         "Sofa",
         "92",
         "63090.2359085083",
         "17",
         "20.481927710843372"
        ]
       ],
       "shape": {
        "columns": 6,
        "rows": 18
       }
      },
      "text/html": [
       "<div>\n",
       "<style scoped>\n",
       "    .dataframe tbody tr th:only-of-type {\n",
       "        vertical-align: middle;\n",
       "    }\n",
       "\n",
       "    .dataframe tbody tr th {\n",
       "        vertical-align: top;\n",
       "    }\n",
       "\n",
       "    .dataframe thead th {\n",
       "        text-align: right;\n",
       "    }\n",
       "</style>\n",
       "<table border=\"1\" class=\"dataframe\">\n",
       "  <thead>\n",
       "    <tr style=\"text-align: right;\">\n",
       "      <th></th>\n",
       "      <th>product_category</th>\n",
       "      <th>product_name</th>\n",
       "      <th>total_quantity</th>\n",
       "      <th>total_sales</th>\n",
       "      <th>average_discount</th>\n",
       "      <th>return_rate</th>\n",
       "    </tr>\n",
       "  </thead>\n",
       "  <tbody>\n",
       "    <tr>\n",
       "      <th>0</th>\n",
       "      <td>Electronics</td>\n",
       "      <td>Laptop</td>\n",
       "      <td>140</td>\n",
       "      <td>143728.995621</td>\n",
       "      <td>14</td>\n",
       "      <td>30.693069</td>\n",
       "    </tr>\n",
       "    <tr>\n",
       "      <th>1</th>\n",
       "      <td>Electronics</td>\n",
       "      <td>Sofa</td>\n",
       "      <td>154</td>\n",
       "      <td>128363.960724</td>\n",
       "      <td>14</td>\n",
       "      <td>20.481928</td>\n",
       "    </tr>\n",
       "    <tr>\n",
       "      <th>2</th>\n",
       "      <td>Electronics</td>\n",
       "      <td>Rice Bag</td>\n",
       "      <td>115</td>\n",
       "      <td>109615.405731</td>\n",
       "      <td>16</td>\n",
       "      <td>26.388889</td>\n",
       "    </tr>\n",
       "    <tr>\n",
       "      <th>3</th>\n",
       "      <td>Electronics</td>\n",
       "      <td>Headphones</td>\n",
       "      <td>133</td>\n",
       "      <td>102849.588943</td>\n",
       "      <td>13</td>\n",
       "      <td>27.710843</td>\n",
       "    </tr>\n",
       "    <tr>\n",
       "      <th>4</th>\n",
       "      <td>Furnitre</td>\n",
       "      <td>Laptop</td>\n",
       "      <td>103</td>\n",
       "      <td>99778.860291</td>\n",
       "      <td>14</td>\n",
       "      <td>30.693069</td>\n",
       "    </tr>\n",
       "    <tr>\n",
       "      <th>5</th>\n",
       "      <td>Electronics</td>\n",
       "      <td>T-Shirt</td>\n",
       "      <td>141</td>\n",
       "      <td>94158.182190</td>\n",
       "      <td>13</td>\n",
       "      <td>25.882353</td>\n",
       "    </tr>\n",
       "    <tr>\n",
       "      <th>6</th>\n",
       "      <td>Groceries</td>\n",
       "      <td>Laptop</td>\n",
       "      <td>103</td>\n",
       "      <td>91107.949158</td>\n",
       "      <td>16</td>\n",
       "      <td>30.693069</td>\n",
       "    </tr>\n",
       "    <tr>\n",
       "      <th>7</th>\n",
       "      <td>Electronics</td>\n",
       "      <td>Table</td>\n",
       "      <td>87</td>\n",
       "      <td>82379.505493</td>\n",
       "      <td>18</td>\n",
       "      <td>28.070175</td>\n",
       "    </tr>\n",
       "    <tr>\n",
       "      <th>8</th>\n",
       "      <td>Groceries</td>\n",
       "      <td>Headphones</td>\n",
       "      <td>91</td>\n",
       "      <td>79061.345642</td>\n",
       "      <td>13</td>\n",
       "      <td>27.710843</td>\n",
       "    </tr>\n",
       "    <tr>\n",
       "      <th>9</th>\n",
       "      <td>Groceries</td>\n",
       "      <td>Table</td>\n",
       "      <td>74</td>\n",
       "      <td>73137.390686</td>\n",
       "      <td>16</td>\n",
       "      <td>28.070175</td>\n",
       "    </tr>\n",
       "    <tr>\n",
       "      <th>10</th>\n",
       "      <td>Furniture</td>\n",
       "      <td>Sofa</td>\n",
       "      <td>63</td>\n",
       "      <td>73121.623779</td>\n",
       "      <td>15</td>\n",
       "      <td>20.481928</td>\n",
       "    </tr>\n",
       "    <tr>\n",
       "      <th>11</th>\n",
       "      <td>Furniture</td>\n",
       "      <td>Headphones</td>\n",
       "      <td>93</td>\n",
       "      <td>72992.322403</td>\n",
       "      <td>11</td>\n",
       "      <td>27.710843</td>\n",
       "    </tr>\n",
       "    <tr>\n",
       "      <th>12</th>\n",
       "      <td>Furniture</td>\n",
       "      <td>Laptop</td>\n",
       "      <td>91</td>\n",
       "      <td>68877.330513</td>\n",
       "      <td>14</td>\n",
       "      <td>30.693069</td>\n",
       "    </tr>\n",
       "    <tr>\n",
       "      <th>13</th>\n",
       "      <td>Clothing</td>\n",
       "      <td>Laptop</td>\n",
       "      <td>107</td>\n",
       "      <td>67066.984619</td>\n",
       "      <td>16</td>\n",
       "      <td>30.693069</td>\n",
       "    </tr>\n",
       "    <tr>\n",
       "      <th>14</th>\n",
       "      <td>Furnitre</td>\n",
       "      <td>Rice Bag</td>\n",
       "      <td>76</td>\n",
       "      <td>66893.966431</td>\n",
       "      <td>14</td>\n",
       "      <td>26.388889</td>\n",
       "    </tr>\n",
       "    <tr>\n",
       "      <th>15</th>\n",
       "      <td>Clothing</td>\n",
       "      <td>Table</td>\n",
       "      <td>86</td>\n",
       "      <td>66760.804016</td>\n",
       "      <td>12</td>\n",
       "      <td>28.070175</td>\n",
       "    </tr>\n",
       "    <tr>\n",
       "      <th>16</th>\n",
       "      <td>Furnitre</td>\n",
       "      <td>Sofa</td>\n",
       "      <td>58</td>\n",
       "      <td>64346.773315</td>\n",
       "      <td>21</td>\n",
       "      <td>20.481928</td>\n",
       "    </tr>\n",
       "    <tr>\n",
       "      <th>17</th>\n",
       "      <td>Groceries</td>\n",
       "      <td>Sofa</td>\n",
       "      <td>92</td>\n",
       "      <td>63090.235909</td>\n",
       "      <td>17</td>\n",
       "      <td>20.481928</td>\n",
       "    </tr>\n",
       "  </tbody>\n",
       "</table>\n",
       "</div>"
      ],
      "text/plain": [
       "   product_category product_name  total_quantity    total_sales  \\\n",
       "0       Electronics       Laptop             140  143728.995621   \n",
       "1       Electronics         Sofa             154  128363.960724   \n",
       "2       Electronics     Rice Bag             115  109615.405731   \n",
       "3       Electronics   Headphones             133  102849.588943   \n",
       "4          Furnitre       Laptop             103   99778.860291   \n",
       "5       Electronics      T-Shirt             141   94158.182190   \n",
       "6         Groceries       Laptop             103   91107.949158   \n",
       "7       Electronics        Table              87   82379.505493   \n",
       "8         Groceries   Headphones              91   79061.345642   \n",
       "9         Groceries        Table              74   73137.390686   \n",
       "10        Furniture         Sofa              63   73121.623779   \n",
       "11        Furniture   Headphones              93   72992.322403   \n",
       "12        Furniture       Laptop              91   68877.330513   \n",
       "13         Clothing       Laptop             107   67066.984619   \n",
       "14         Furnitre     Rice Bag              76   66893.966431   \n",
       "15         Clothing        Table              86   66760.804016   \n",
       "16         Furnitre         Sofa              58   64346.773315   \n",
       "17        Groceries         Sofa              92   63090.235909   \n",
       "\n",
       "    average_discount  return_rate  \n",
       "0                 14    30.693069  \n",
       "1                 14    20.481928  \n",
       "2                 16    26.388889  \n",
       "3                 13    27.710843  \n",
       "4                 14    30.693069  \n",
       "5                 13    25.882353  \n",
       "6                 16    30.693069  \n",
       "7                 18    28.070175  \n",
       "8                 13    27.710843  \n",
       "9                 16    28.070175  \n",
       "10                15    20.481928  \n",
       "11                11    27.710843  \n",
       "12                14    30.693069  \n",
       "13                16    30.693069  \n",
       "14                14    26.388889  \n",
       "15                12    28.070175  \n",
       "16                21    20.481928  \n",
       "17                17    20.481928  "
      ]
     },
     "execution_count": 38,
     "metadata": {},
     "output_type": "execute_result"
    }
   ],
   "source": [
    "high_sales_returns"
   ]
  }
 ],
 "metadata": {
  "kernelspec": {
   "display_name": "Python 3",
   "language": "python",
   "name": "python3"
  },
  "language_info": {
   "codemirror_mode": {
    "name": "ipython",
    "version": 3
   },
   "file_extension": ".py",
   "mimetype": "text/x-python",
   "name": "python",
   "nbconvert_exporter": "python",
   "pygments_lexer": "ipython3",
   "version": "3.13.7"
  }
 },
 "nbformat": 4,
 "nbformat_minor": 2
}
