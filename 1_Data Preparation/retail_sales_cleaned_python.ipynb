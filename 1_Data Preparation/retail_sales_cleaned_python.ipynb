{
 "cells": [
  {
   "cell_type": "markdown",
   "metadata": {},
   "source": [
    "## Loading The Dataset And the Libraries"
   ]
  },
  {
   "cell_type": "code",
   "execution_count": 1,
   "metadata": {},
   "outputs": [],
   "source": [
    "import pandas as pd "
   ]
  },
  {
   "cell_type": "code",
   "execution_count": 2,
   "metadata": {},
   "outputs": [],
   "source": [
    "df = pd.read_csv(r'F:\\Lerning\\Case Studies\\Retail Sales\\retail_sales.csv')"
   ]
  },
  {
   "cell_type": "code",
   "execution_count": 3,
   "metadata": {},
   "outputs": [
    {
     "data": {
      "text/html": [
       "<div>\n",
       "<style scoped>\n",
       "    .dataframe tbody tr th:only-of-type {\n",
       "        vertical-align: middle;\n",
       "    }\n",
       "\n",
       "    .dataframe tbody tr th {\n",
       "        vertical-align: top;\n",
       "    }\n",
       "\n",
       "    .dataframe thead th {\n",
       "        text-align: right;\n",
       "    }\n",
       "</style>\n",
       "<table border=\"1\" class=\"dataframe\">\n",
       "  <thead>\n",
       "    <tr style=\"text-align: right;\">\n",
       "      <th></th>\n",
       "      <th>Order_ID</th>\n",
       "      <th>Order_Date</th>\n",
       "      <th>Customer_ID</th>\n",
       "      <th>Customer_Name</th>\n",
       "      <th>Region</th>\n",
       "      <th>Product_Category</th>\n",
       "      <th>Product_Name</th>\n",
       "      <th>Quantity</th>\n",
       "      <th>Unit_Price</th>\n",
       "      <th>Discount</th>\n",
       "      <th>Total_Sales</th>\n",
       "      <th>Payment_Method</th>\n",
       "      <th>Delivery_Status</th>\n",
       "    </tr>\n",
       "  </thead>\n",
       "  <tbody>\n",
       "    <tr>\n",
       "      <th>0</th>\n",
       "      <td>O-1000</td>\n",
       "      <td>2024-01-01</td>\n",
       "      <td>C-208</td>\n",
       "      <td>Jane Smith</td>\n",
       "      <td>South</td>\n",
       "      <td>Furniture</td>\n",
       "      <td>T-Shirt</td>\n",
       "      <td>10</td>\n",
       "      <td>805.52</td>\n",
       "      <td>0.01</td>\n",
       "      <td>7974.6480</td>\n",
       "      <td>Credit Card</td>\n",
       "      <td>Pending</td>\n",
       "    </tr>\n",
       "    <tr>\n",
       "      <th>1</th>\n",
       "      <td>O-1001</td>\n",
       "      <td>2024-01-02</td>\n",
       "      <td>C-365</td>\n",
       "      <td>Ali Hassan</td>\n",
       "      <td>North</td>\n",
       "      <td>Furnitre</td>\n",
       "      <td>Sofa</td>\n",
       "      <td>3</td>\n",
       "      <td>1550.01</td>\n",
       "      <td>0.25</td>\n",
       "      <td>3487.5225</td>\n",
       "      <td>Cash</td>\n",
       "      <td>Cancelled</td>\n",
       "    </tr>\n",
       "    <tr>\n",
       "      <th>2</th>\n",
       "      <td>O-1002</td>\n",
       "      <td>2024-01-03</td>\n",
       "      <td>C-498</td>\n",
       "      <td>Jane Smith</td>\n",
       "      <td>West</td>\n",
       "      <td>Furniture</td>\n",
       "      <td>Laptop</td>\n",
       "      <td>1</td>\n",
       "      <td>1187.38</td>\n",
       "      <td>0.10</td>\n",
       "      <td>1068.6420</td>\n",
       "      <td>Bank Transfer</td>\n",
       "      <td>Pending</td>\n",
       "    </tr>\n",
       "    <tr>\n",
       "      <th>3</th>\n",
       "      <td>O-1003</td>\n",
       "      <td>2024-01-04</td>\n",
       "      <td>C-371</td>\n",
       "      <td>Ali Hassan</td>\n",
       "      <td>East</td>\n",
       "      <td>Electronics</td>\n",
       "      <td>Headphones</td>\n",
       "      <td>2</td>\n",
       "      <td>932.39</td>\n",
       "      <td>0.07</td>\n",
       "      <td>1734.2454</td>\n",
       "      <td>Cash</td>\n",
       "      <td>Cancelled</td>\n",
       "    </tr>\n",
       "    <tr>\n",
       "      <th>4</th>\n",
       "      <td>O-1004</td>\n",
       "      <td>2024-01-05</td>\n",
       "      <td>C-218</td>\n",
       "      <td>Jane Smith</td>\n",
       "      <td>West</td>\n",
       "      <td>Clothing</td>\n",
       "      <td>Sofa</td>\n",
       "      <td>10</td>\n",
       "      <td>279.37</td>\n",
       "      <td>0.17</td>\n",
       "      <td>2318.7710</td>\n",
       "      <td>Cash</td>\n",
       "      <td>Returned</td>\n",
       "    </tr>\n",
       "  </tbody>\n",
       "</table>\n",
       "</div>"
      ],
      "text/plain": [
       "  Order_ID  Order_Date Customer_ID Customer_Name Region Product_Category  \\\n",
       "0   O-1000  2024-01-01       C-208    Jane Smith  South        Furniture   \n",
       "1   O-1001  2024-01-02       C-365    Ali Hassan  North         Furnitre   \n",
       "2   O-1002  2024-01-03       C-498    Jane Smith   West        Furniture   \n",
       "3   O-1003  2024-01-04       C-371    Ali Hassan   East      Electronics   \n",
       "4   O-1004  2024-01-05       C-218    Jane Smith   West         Clothing   \n",
       "\n",
       "  Product_Name  Quantity Unit_Price  Discount  Total_Sales Payment_Method  \\\n",
       "0      T-Shirt        10     805.52      0.01    7974.6480    Credit Card   \n",
       "1         Sofa         3    1550.01      0.25    3487.5225           Cash   \n",
       "2       Laptop         1    1187.38      0.10    1068.6420  Bank Transfer   \n",
       "3   Headphones         2     932.39      0.07    1734.2454           Cash   \n",
       "4         Sofa        10     279.37      0.17    2318.7710           Cash   \n",
       "\n",
       "  Delivery_Status  \n",
       "0         Pending  \n",
       "1       Cancelled  \n",
       "2         Pending  \n",
       "3       Cancelled  \n",
       "4        Returned  "
      ]
     },
     "execution_count": 3,
     "metadata": {},
     "output_type": "execute_result"
    }
   ],
   "source": [
    "df.head()"
   ]
  },
  {
   "cell_type": "code",
   "execution_count": 4,
   "metadata": {},
   "outputs": [
    {
     "name": "stdout",
     "output_type": "stream",
     "text": [
      "<class 'pandas.core.frame.DataFrame'>\n",
      "RangeIndex: 510 entries, 0 to 509\n",
      "Data columns (total 13 columns):\n",
      " #   Column            Non-Null Count  Dtype  \n",
      "---  ------            --------------  -----  \n",
      " 0   Order_ID          510 non-null    object \n",
      " 1   Order_Date        510 non-null    object \n",
      " 2   Customer_ID       510 non-null    object \n",
      " 3   Customer_Name     475 non-null    object \n",
      " 4   Region            510 non-null    object \n",
      " 5   Product_Category  483 non-null    object \n",
      " 6   Product_Name      510 non-null    object \n",
      " 7   Quantity          510 non-null    int64  \n",
      " 8   Unit_Price        486 non-null    object \n",
      " 9   Discount          510 non-null    float64\n",
      " 10  Total_Sales       510 non-null    float64\n",
      " 11  Payment_Method    510 non-null    object \n",
      " 12  Delivery_Status   510 non-null    object \n",
      "dtypes: float64(2), int64(1), object(10)\n",
      "memory usage: 51.9+ KB\n"
     ]
    }
   ],
   "source": [
    "df.info()"
   ]
  },
  {
   "cell_type": "markdown",
   "metadata": {},
   "source": [
    "## Cleaning"
   ]
  },
  {
   "cell_type": "markdown",
   "metadata": {},
   "source": [
    "Remove Duplicate"
   ]
  },
  {
   "cell_type": "code",
   "execution_count": 5,
   "metadata": {},
   "outputs": [],
   "source": [
    "df = df.drop_duplicates()"
   ]
  },
  {
   "cell_type": "markdown",
   "metadata": {},
   "source": [
    "Handle Missing Values"
   ]
  },
  {
   "cell_type": "code",
   "execution_count": 6,
   "metadata": {},
   "outputs": [],
   "source": [
    "df[\"Customer_Name\"] = df[\"Customer_Name\"].fillna(\"Unknown\")\n",
    "\n",
    "df[\"Product_Category\"] = df[\"Product_Category\"].replace(\n",
    "    {\n",
    "        \"Electrnics\": \"Electronics\"\n",
    "        , \"Furnture\": \"Furniture\"\n",
    "}).fillna(\"Other\")\n",
    "df = df.dropna(subset = [\"Unit_Price\"])"
   ]
  },
  {
   "cell_type": "markdown",
   "metadata": {},
   "source": [
    "Remove currency sympols, convert to fload (Unit_Price)"
   ]
  },
  {
   "cell_type": "code",
   "execution_count": 7,
   "metadata": {},
   "outputs": [],
   "source": [
    "df[\"Unit_Price\"] = df[\"Unit_Price\"].astype(str).str.replace(\"[$£]\", \"\", regex = True )\n",
    "df['Unit_Price'] = df['Unit_Price'].astype(float)"
   ]
  },
  {
   "cell_type": "markdown",
   "metadata": {},
   "source": [
    "Fix Dates (YYYY-MM-DD)"
   ]
  },
  {
   "cell_type": "code",
   "execution_count": 8,
   "metadata": {},
   "outputs": [],
   "source": [
    "df['Order_Date'] = pd.to_datetime(df['Order_Date'], errors = 'coerce').dt.strftime('%Y-%m-%d')"
   ]
  },
  {
   "cell_type": "markdown",
   "metadata": {},
   "source": [
    "Handle Negative Sales"
   ]
  },
  {
   "cell_type": "code",
   "execution_count": 9,
   "metadata": {},
   "outputs": [],
   "source": [
    "df[\"Total_Sales\"] = df[\"Quantity\"] * df[\"Unit_Price\"] * (1 - df[\"Discount\"])"
   ]
  },
  {
   "cell_type": "markdown",
   "metadata": {},
   "source": [
    "Recalculate Total_Sales"
   ]
  },
  {
   "cell_type": "code",
   "execution_count": 10,
   "metadata": {},
   "outputs": [],
   "source": [
    "df[\"Total_Sales\"] = df[\"Total_Sales\"] * df[\"Unit_Price\"] * (1 - df[\"Discount\"])"
   ]
  },
  {
   "cell_type": "markdown",
   "metadata": {},
   "source": [
    "Outlier: cap using IQR"
   ]
  },
  {
   "cell_type": "code",
   "execution_count": 12,
   "metadata": {},
   "outputs": [],
   "source": [
    "for col in [\"Total_Sales\", \"Discount\"]:\n",
    "    Q1 = df[col].quantile(0.25)\n",
    "    Q3 = df[col].quantile(0.75)\n",
    "    IQR = Q3 - Q1\n",
    "    lower, upper = Q1 - 1.5 * IQR, Q3 + 1.5 * IQR\n",
    "    df[col] = df[col].clip(lower, upper)"
   ]
  },
  {
   "cell_type": "markdown",
   "metadata": {},
   "source": [
    "Feature Engineering"
   ]
  },
  {
   "cell_type": "code",
   "execution_count": 13,
   "metadata": {},
   "outputs": [],
   "source": [
    "df[\"Order_Year\"] = pd.to_datetime(df[\"Order_Date\"]).dt.year\n",
    "df[\"Order_Month\"] = pd.to_datetime(df[\"Order_Date\"]).dt.month"
   ]
  },
  {
   "cell_type": "markdown",
   "metadata": {},
   "source": [
    "Recalculate Total_Sales"
   ]
  },
  {
   "cell_type": "code",
   "execution_count": 14,
   "metadata": {},
   "outputs": [],
   "source": [
    "df[\"Total_Sales\"] = df[\"Quantity\"] * df[\"Unit_Price\"] * (1 - df[\"Discount\"])"
   ]
  },
  {
   "cell_type": "markdown",
   "metadata": {},
   "source": [
    "Save Cleaned Data"
   ]
  },
  {
   "cell_type": "code",
   "execution_count": 17,
   "metadata": {},
   "outputs": [],
   "source": [
    "df.to_csv(r'F:\\Lerning\\Case Studies\\Retail Sales\\1_Data Preparation\\retail_sales_cleaned_python.csv', index = False)"
   ]
  }
 ],
 "metadata": {
  "kernelspec": {
   "display_name": "Python 3",
   "language": "python",
   "name": "python3"
  },
  "language_info": {
   "codemirror_mode": {
    "name": "ipython",
    "version": 3
   },
   "file_extension": ".py",
   "mimetype": "text/x-python",
   "name": "python",
   "nbconvert_exporter": "python",
   "pygments_lexer": "ipython3",
   "version": "3.13.7"
  }
 },
 "nbformat": 4,
 "nbformat_minor": 2
}
