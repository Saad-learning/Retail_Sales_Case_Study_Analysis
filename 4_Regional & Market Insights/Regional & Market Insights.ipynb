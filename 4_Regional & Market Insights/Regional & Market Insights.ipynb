{
 "cells": [
  {
   "cell_type": "markdown",
   "metadata": {},
   "source": [
    "Import And Connection"
   ]
  },
  {
   "cell_type": "code",
   "execution_count": 7,
   "metadata": {},
   "outputs": [
    {
     "name": "stdout",
     "output_type": "stream",
     "text": [
      "Defaulting to user installation because normal site-packages is not writeable\n",
      "Requirement already satisfied: pypyodbc in c:\\users\\gigabyte\\appdata\\local\\packages\\pythonsoftwarefoundation.python.3.13_qbz5n2kfra8p0\\localcache\\local-packages\\python313\\site-packages (1.3.6)\n",
      "Requirement already satisfied: setuptools in c:\\users\\gigabyte\\appdata\\local\\packages\\pythonsoftwarefoundation.python.3.13_qbz5n2kfra8p0\\localcache\\local-packages\\python313\\site-packages (from pypyodbc) (80.9.0)\n"
     ]
    }
   ],
   "source": [
    "!pip install pypyodbc\n"
   ]
  },
  {
   "cell_type": "code",
   "execution_count": 11,
   "metadata": {},
   "outputs": [],
   "source": [
    "import pyodbc as odbc\n",
    "import pandas as pd \n",
    "import matplotlib.pyplot as plt\n",
    "import seaborn as sns\n",
    "import numpy as np"
   ]
  },
  {
   "cell_type": "code",
   "execution_count": 12,
   "metadata": {},
   "outputs": [
    {
     "name": "stdout",
     "output_type": "stream",
     "text": [
      "Connected successfully!\n"
     ]
    }
   ],
   "source": [
    "DRIVER_NAME = 'ODBC Driver 17 for SQL Server'\n",
    "SERVER_NAME = r'DESKTOP-L3GBMQ5\\SQLEXPRESS'\n",
    "DATABASE_NAME = 'Case_Studies'\n",
    "\n",
    "connection_string = (\n",
    "    f\"DRIVER={{{DRIVER_NAME}}};\"\n",
    "    f\"SERVER={SERVER_NAME};\"\n",
    "    f\"DATABASE={DATABASE_NAME};\"\n",
    "    f\"Trusted_Connection=yes;\"\n",
    ")\n",
    "\n",
    "conn = odbc.connect(connection_string)\n",
    "print(\"Connected successfully!\")"
   ]
  },
  {
   "cell_type": "markdown",
   "metadata": {},
   "source": [
    "-------------------"
   ]
  },
  {
   "cell_type": "markdown",
   "metadata": {},
   "source": [
    "Regional Performance"
   ]
  },
  {
   "cell_type": "code",
   "execution_count": 32,
   "metadata": {},
   "outputs": [],
   "source": [
    "sql_region = \"\"\"\n",
    "SELECT \n",
    "    Region\n",
    "    ,SUM(total_sales) as Total_Sales\n",
    "    ,SUM(total_sales * 0.25) AS Total_Profit\n",
    "FROM\n",
    "    retail_sales_cleaned_3\n",
    "GROUP BY\n",
    "    Region\n",
    "ORDER BY\n",
    "    Total_Sales DESC;\n",
    "\"\"\""
   ]
  },
  {
   "cell_type": "code",
   "execution_count": 33,
   "metadata": {},
   "outputs": [
    {
     "name": "stderr",
     "output_type": "stream",
     "text": [
      "C:\\Users\\GIGABYTE\\AppData\\Local\\Temp\\ipykernel_7812\\2719363155.py:1: UserWarning: pandas only supports SQLAlchemy connectable (engine/connection) or database string URI or sqlite3 DBAPI2 connection. Other DBAPI2 objects are not tested. Please consider using SQLAlchemy.\n",
      "  df_region = pd.read_sql(sql_region, conn)\n"
     ]
    },
    {
     "data": {
      "application/vnd.microsoft.datawrangler.viewer.v0+json": {
       "columns": [
        {
         "name": "index",
         "rawType": "int64",
         "type": "integer"
        },
        {
         "name": "Region",
         "rawType": "object",
         "type": "string"
        },
        {
         "name": "Total_Sales",
         "rawType": "float64",
         "type": "float"
        },
        {
         "name": "Total_Profit",
         "rawType": "float64",
         "type": "float"
        }
       ],
       "ref": "373f0009-3d0b-4433-9d03-e2ee76acabf7",
       "rows": [
        [
         "0",
         "North",
         "619477.7293872833",
         "154869.43234682083"
        ],
        [
         "1",
         "East",
         "572738.5103607178",
         "143184.62759017944"
        ],
        [
         "2",
         "West",
         "538043.4090423584",
         "134510.8522605896"
        ],
        [
         "3",
         "South",
         "525178.1627883911",
         "131294.54069709778"
        ]
       ],
       "shape": {
        "columns": 3,
        "rows": 4
       }
      },
      "text/html": [
       "<div>\n",
       "<style scoped>\n",
       "    .dataframe tbody tr th:only-of-type {\n",
       "        vertical-align: middle;\n",
       "    }\n",
       "\n",
       "    .dataframe tbody tr th {\n",
       "        vertical-align: top;\n",
       "    }\n",
       "\n",
       "    .dataframe thead th {\n",
       "        text-align: right;\n",
       "    }\n",
       "</style>\n",
       "<table border=\"1\" class=\"dataframe\">\n",
       "  <thead>\n",
       "    <tr style=\"text-align: right;\">\n",
       "      <th></th>\n",
       "      <th>Region</th>\n",
       "      <th>Total_Sales</th>\n",
       "      <th>Total_Profit</th>\n",
       "    </tr>\n",
       "  </thead>\n",
       "  <tbody>\n",
       "    <tr>\n",
       "      <th>0</th>\n",
       "      <td>North</td>\n",
       "      <td>619477.729387</td>\n",
       "      <td>154869.432347</td>\n",
       "    </tr>\n",
       "    <tr>\n",
       "      <th>1</th>\n",
       "      <td>East</td>\n",
       "      <td>572738.510361</td>\n",
       "      <td>143184.627590</td>\n",
       "    </tr>\n",
       "    <tr>\n",
       "      <th>2</th>\n",
       "      <td>West</td>\n",
       "      <td>538043.409042</td>\n",
       "      <td>134510.852261</td>\n",
       "    </tr>\n",
       "    <tr>\n",
       "      <th>3</th>\n",
       "      <td>South</td>\n",
       "      <td>525178.162788</td>\n",
       "      <td>131294.540697</td>\n",
       "    </tr>\n",
       "  </tbody>\n",
       "</table>\n",
       "</div>"
      ],
      "text/plain": [
       "  Region    Total_Sales   Total_Profit\n",
       "0  North  619477.729387  154869.432347\n",
       "1   East  572738.510361  143184.627590\n",
       "2   West  538043.409042  134510.852261\n",
       "3  South  525178.162788  131294.540697"
      ]
     },
     "execution_count": 33,
     "metadata": {},
     "output_type": "execute_result"
    }
   ],
   "source": [
    "df_region = pd.read_sql(sql_region, conn)\n",
    "df_region"
   ]
  },
  {
   "cell_type": "markdown",
   "metadata": {},
   "source": [
    "State-Lever Performance"
   ]
  },
  {
   "cell_type": "code",
   "execution_count": 37,
   "metadata": {},
   "outputs": [
    {
     "name": "stderr",
     "output_type": "stream",
     "text": [
      "C:\\Users\\GIGABYTE\\AppData\\Local\\Temp\\ipykernel_7812\\2033534674.py:1: UserWarning: pandas only supports SQLAlchemy connectable (engine/connection) or database string URI or sqlite3 DBAPI2 connection. Other DBAPI2 objects are not tested. Please consider using SQLAlchemy.\n",
      "  df = pd.read_sql(\"SELECT * FROM [dbo].[retail_sales_cleaned_3];\", conn)\n"
     ]
    },
    {
     "data": {
      "application/vnd.microsoft.datawrangler.viewer.v0+json": {
       "columns": [
        {
         "name": "index",
         "rawType": "int64",
         "type": "integer"
        },
        {
         "name": "order_id",
         "rawType": "object",
         "type": "string"
        },
        {
         "name": "order_date",
         "rawType": "object",
         "type": "unknown"
        },
        {
         "name": "customer_id",
         "rawType": "object",
         "type": "string"
        },
        {
         "name": "customer_name",
         "rawType": "object",
         "type": "string"
        },
        {
         "name": "region",
         "rawType": "object",
         "type": "string"
        },
        {
         "name": "product_category",
         "rawType": "object",
         "type": "string"
        },
        {
         "name": "product_name",
         "rawType": "object",
         "type": "string"
        },
        {
         "name": "quantity",
         "rawType": "int64",
         "type": "integer"
        },
        {
         "name": "unit_price",
         "rawType": "float64",
         "type": "float"
        },
        {
         "name": "discount",
         "rawType": "object",
         "type": "unknown"
        },
        {
         "name": "total_sales",
         "rawType": "float64",
         "type": "float"
        },
        {
         "name": "payment_method",
         "rawType": "object",
         "type": "string"
        },
        {
         "name": "delivery_status",
         "rawType": "object",
         "type": "string"
        },
        {
         "name": "order_year",
         "rawType": "float64",
         "type": "float"
        },
        {
         "name": "order_month",
         "rawType": "float64",
         "type": "float"
        },
        {
         "name": "segment",
         "rawType": "object",
         "type": "string"
        },
        {
         "name": "state",
         "rawType": "object",
         "type": "string"
        }
       ],
       "ref": "cd384670-1522-4430-b7e2-a7ea1bea2721",
       "rows": [
        [
         "0",
         "O-1000",
         "2024-01-01",
         "C-208",
         "Jane Smith",
         "South",
         "Furniture",
         "T-Shirt",
         "10",
         "805.52001953125",
         "00:01:00",
         "7974.64794921875",
         "Credit Card",
         "Pending",
         "2024.0",
         "1.0",
         "Medium",
         "Texas"
        ],
        [
         "1",
         "O-1001",
         "2024-01-02",
         "C-365",
         "Ali Hassan",
         "North",
         "Furnitre",
         "Sofa",
         "3",
         "1550.010009765625",
         "00:25:00",
         "3487.5224609375",
         "Cash",
         "Cancelled",
         "2024.0",
         "1.0",
         "Low",
         "Unknown"
        ],
        [
         "2",
         "O-1002",
         "2024-01-03",
         "C-498",
         "Jane Smith",
         "West",
         "Furniture",
         "Laptop",
         "1",
         "1187.3800048828125",
         "00:10:00",
         "1068.6419677734375",
         "Bank Transfer",
         "Pending",
         "2024.0",
         "1.0",
         "Low",
         "California"
        ],
        [
         "3",
         "O-1003",
         "2024-01-04",
         "C-371",
         "Ali Hassan",
         "East",
         "Electronics",
         "Headphones",
         "2",
         "932.3900146484375",
         "00:07:00",
         "1734.245361328125",
         "Cash",
         "Cancelled",
         "2024.0",
         "1.0",
         "Low",
         "New York"
        ],
        [
         "4",
         "O-1004",
         "2024-01-05",
         "C-218",
         "Jane Smith",
         "West",
         "Clothing",
         "Sofa",
         "10",
         "279.3699951171875",
         "00:17:00",
         "2318.77099609375",
         "Cash",
         "Returned",
         "2024.0",
         "1.0",
         "Low",
         "California"
        ]
       ],
       "shape": {
        "columns": 17,
        "rows": 5
       }
      },
      "text/html": [
       "<div>\n",
       "<style scoped>\n",
       "    .dataframe tbody tr th:only-of-type {\n",
       "        vertical-align: middle;\n",
       "    }\n",
       "\n",
       "    .dataframe tbody tr th {\n",
       "        vertical-align: top;\n",
       "    }\n",
       "\n",
       "    .dataframe thead th {\n",
       "        text-align: right;\n",
       "    }\n",
       "</style>\n",
       "<table border=\"1\" class=\"dataframe\">\n",
       "  <thead>\n",
       "    <tr style=\"text-align: right;\">\n",
       "      <th></th>\n",
       "      <th>order_id</th>\n",
       "      <th>order_date</th>\n",
       "      <th>customer_id</th>\n",
       "      <th>customer_name</th>\n",
       "      <th>region</th>\n",
       "      <th>product_category</th>\n",
       "      <th>product_name</th>\n",
       "      <th>quantity</th>\n",
       "      <th>unit_price</th>\n",
       "      <th>discount</th>\n",
       "      <th>total_sales</th>\n",
       "      <th>payment_method</th>\n",
       "      <th>delivery_status</th>\n",
       "      <th>order_year</th>\n",
       "      <th>order_month</th>\n",
       "      <th>segment</th>\n",
       "      <th>state</th>\n",
       "    </tr>\n",
       "  </thead>\n",
       "  <tbody>\n",
       "    <tr>\n",
       "      <th>0</th>\n",
       "      <td>O-1000</td>\n",
       "      <td>2024-01-01</td>\n",
       "      <td>C-208</td>\n",
       "      <td>Jane Smith</td>\n",
       "      <td>South</td>\n",
       "      <td>Furniture</td>\n",
       "      <td>T-Shirt</td>\n",
       "      <td>10</td>\n",
       "      <td>805.520020</td>\n",
       "      <td>00:01:00</td>\n",
       "      <td>7974.647949</td>\n",
       "      <td>Credit Card</td>\n",
       "      <td>Pending</td>\n",
       "      <td>2024.0</td>\n",
       "      <td>1.0</td>\n",
       "      <td>Medium</td>\n",
       "      <td>Texas</td>\n",
       "    </tr>\n",
       "    <tr>\n",
       "      <th>1</th>\n",
       "      <td>O-1001</td>\n",
       "      <td>2024-01-02</td>\n",
       "      <td>C-365</td>\n",
       "      <td>Ali Hassan</td>\n",
       "      <td>North</td>\n",
       "      <td>Furnitre</td>\n",
       "      <td>Sofa</td>\n",
       "      <td>3</td>\n",
       "      <td>1550.010010</td>\n",
       "      <td>00:25:00</td>\n",
       "      <td>3487.522461</td>\n",
       "      <td>Cash</td>\n",
       "      <td>Cancelled</td>\n",
       "      <td>2024.0</td>\n",
       "      <td>1.0</td>\n",
       "      <td>Low</td>\n",
       "      <td>Unknown</td>\n",
       "    </tr>\n",
       "    <tr>\n",
       "      <th>2</th>\n",
       "      <td>O-1002</td>\n",
       "      <td>2024-01-03</td>\n",
       "      <td>C-498</td>\n",
       "      <td>Jane Smith</td>\n",
       "      <td>West</td>\n",
       "      <td>Furniture</td>\n",
       "      <td>Laptop</td>\n",
       "      <td>1</td>\n",
       "      <td>1187.380005</td>\n",
       "      <td>00:10:00</td>\n",
       "      <td>1068.641968</td>\n",
       "      <td>Bank Transfer</td>\n",
       "      <td>Pending</td>\n",
       "      <td>2024.0</td>\n",
       "      <td>1.0</td>\n",
       "      <td>Low</td>\n",
       "      <td>California</td>\n",
       "    </tr>\n",
       "    <tr>\n",
       "      <th>3</th>\n",
       "      <td>O-1003</td>\n",
       "      <td>2024-01-04</td>\n",
       "      <td>C-371</td>\n",
       "      <td>Ali Hassan</td>\n",
       "      <td>East</td>\n",
       "      <td>Electronics</td>\n",
       "      <td>Headphones</td>\n",
       "      <td>2</td>\n",
       "      <td>932.390015</td>\n",
       "      <td>00:07:00</td>\n",
       "      <td>1734.245361</td>\n",
       "      <td>Cash</td>\n",
       "      <td>Cancelled</td>\n",
       "      <td>2024.0</td>\n",
       "      <td>1.0</td>\n",
       "      <td>Low</td>\n",
       "      <td>New York</td>\n",
       "    </tr>\n",
       "    <tr>\n",
       "      <th>4</th>\n",
       "      <td>O-1004</td>\n",
       "      <td>2024-01-05</td>\n",
       "      <td>C-218</td>\n",
       "      <td>Jane Smith</td>\n",
       "      <td>West</td>\n",
       "      <td>Clothing</td>\n",
       "      <td>Sofa</td>\n",
       "      <td>10</td>\n",
       "      <td>279.369995</td>\n",
       "      <td>00:17:00</td>\n",
       "      <td>2318.770996</td>\n",
       "      <td>Cash</td>\n",
       "      <td>Returned</td>\n",
       "      <td>2024.0</td>\n",
       "      <td>1.0</td>\n",
       "      <td>Low</td>\n",
       "      <td>California</td>\n",
       "    </tr>\n",
       "  </tbody>\n",
       "</table>\n",
       "</div>"
      ],
      "text/plain": [
       "  order_id  order_date customer_id customer_name region product_category  \\\n",
       "0   O-1000  2024-01-01       C-208    Jane Smith  South        Furniture   \n",
       "1   O-1001  2024-01-02       C-365    Ali Hassan  North         Furnitre   \n",
       "2   O-1002  2024-01-03       C-498    Jane Smith   West        Furniture   \n",
       "3   O-1003  2024-01-04       C-371    Ali Hassan   East      Electronics   \n",
       "4   O-1004  2024-01-05       C-218    Jane Smith   West         Clothing   \n",
       "\n",
       "  product_name  quantity   unit_price  discount  total_sales payment_method  \\\n",
       "0      T-Shirt        10   805.520020  00:01:00  7974.647949    Credit Card   \n",
       "1         Sofa         3  1550.010010  00:25:00  3487.522461           Cash   \n",
       "2       Laptop         1  1187.380005  00:10:00  1068.641968  Bank Transfer   \n",
       "3   Headphones         2   932.390015  00:07:00  1734.245361           Cash   \n",
       "4         Sofa        10   279.369995  00:17:00  2318.770996           Cash   \n",
       "\n",
       "  delivery_status  order_year  order_month segment       state  \n",
       "0         Pending      2024.0          1.0  Medium       Texas  \n",
       "1       Cancelled      2024.0          1.0     Low     Unknown  \n",
       "2         Pending      2024.0          1.0     Low  California  \n",
       "3       Cancelled      2024.0          1.0     Low    New York  \n",
       "4        Returned      2024.0          1.0     Low  California  "
      ]
     },
     "execution_count": 37,
     "metadata": {},
     "output_type": "execute_result"
    }
   ],
   "source": [
    "df = pd.read_sql(\"SELECT * FROM [dbo].[retail_sales_cleaned_3];\", conn)\n",
    "df.head()\n"
   ]
  },
  {
   "cell_type": "code",
   "execution_count": 46,
   "metadata": {},
   "outputs": [],
   "source": [
    "sql_state = \"\"\"\n",
    "SELECT\n",
    "    region\n",
    "    ,state\n",
    "    ,SUM(total_sales) AS Total_Sales\n",
    "    ,SUM(total_sales * 0.25) AS Total_Profit\n",
    "FROM\n",
    "    retail_sales_cleaned_3\n",
    "GROUP BY\n",
    "    region\n",
    "    ,state\n",
    "ORDER BY \n",
    "    Total_Sales DESC;\n",
    "\"\"\""
   ]
  },
  {
   "cell_type": "code",
   "execution_count": 47,
   "metadata": {},
   "outputs": [
    {
     "name": "stderr",
     "output_type": "stream",
     "text": [
      "C:\\Users\\GIGABYTE\\AppData\\Local\\Temp\\ipykernel_7812\\2013090188.py:1: UserWarning: pandas only supports SQLAlchemy connectable (engine/connection) or database string URI or sqlite3 DBAPI2 connection. Other DBAPI2 objects are not tested. Please consider using SQLAlchemy.\n",
      "  df_state = pd.read_sql(sql_state, conn)\n"
     ]
    },
    {
     "data": {
      "application/vnd.microsoft.datawrangler.viewer.v0+json": {
       "columns": [
        {
         "name": "index",
         "rawType": "int64",
         "type": "integer"
        },
        {
         "name": "region",
         "rawType": "object",
         "type": "string"
        },
        {
         "name": "state",
         "rawType": "object",
         "type": "string"
        },
        {
         "name": "Total_Sales",
         "rawType": "float64",
         "type": "float"
        },
        {
         "name": "Total_Profit",
         "rawType": "float64",
         "type": "float"
        }
       ],
       "ref": "049bcee3-6ea8-466a-8f34-58a3d9691a42",
       "rows": [
        [
         "0",
         "North",
         "Unknown",
         "619477.7293872833",
         "154869.43234682083"
        ],
        [
         "1",
         "East",
         "New York",
         "572738.5103607178",
         "143184.62759017944"
        ],
        [
         "2",
         "West",
         "California",
         "538043.4090423584",
         "134510.8522605896"
        ],
        [
         "3",
         "South",
         "Texas",
         "525178.1627883911",
         "131294.54069709778"
        ]
       ],
       "shape": {
        "columns": 4,
        "rows": 4
       }
      },
      "text/html": [
       "<div>\n",
       "<style scoped>\n",
       "    .dataframe tbody tr th:only-of-type {\n",
       "        vertical-align: middle;\n",
       "    }\n",
       "\n",
       "    .dataframe tbody tr th {\n",
       "        vertical-align: top;\n",
       "    }\n",
       "\n",
       "    .dataframe thead th {\n",
       "        text-align: right;\n",
       "    }\n",
       "</style>\n",
       "<table border=\"1\" class=\"dataframe\">\n",
       "  <thead>\n",
       "    <tr style=\"text-align: right;\">\n",
       "      <th></th>\n",
       "      <th>region</th>\n",
       "      <th>state</th>\n",
       "      <th>Total_Sales</th>\n",
       "      <th>Total_Profit</th>\n",
       "    </tr>\n",
       "  </thead>\n",
       "  <tbody>\n",
       "    <tr>\n",
       "      <th>0</th>\n",
       "      <td>North</td>\n",
       "      <td>Unknown</td>\n",
       "      <td>619477.729387</td>\n",
       "      <td>154869.432347</td>\n",
       "    </tr>\n",
       "    <tr>\n",
       "      <th>1</th>\n",
       "      <td>East</td>\n",
       "      <td>New York</td>\n",
       "      <td>572738.510361</td>\n",
       "      <td>143184.627590</td>\n",
       "    </tr>\n",
       "    <tr>\n",
       "      <th>2</th>\n",
       "      <td>West</td>\n",
       "      <td>California</td>\n",
       "      <td>538043.409042</td>\n",
       "      <td>134510.852261</td>\n",
       "    </tr>\n",
       "    <tr>\n",
       "      <th>3</th>\n",
       "      <td>South</td>\n",
       "      <td>Texas</td>\n",
       "      <td>525178.162788</td>\n",
       "      <td>131294.540697</td>\n",
       "    </tr>\n",
       "  </tbody>\n",
       "</table>\n",
       "</div>"
      ],
      "text/plain": [
       "  region       state    Total_Sales   Total_Profit\n",
       "0  North     Unknown  619477.729387  154869.432347\n",
       "1   East    New York  572738.510361  143184.627590\n",
       "2   West  California  538043.409042  134510.852261\n",
       "3  South       Texas  525178.162788  131294.540697"
      ]
     },
     "execution_count": 47,
     "metadata": {},
     "output_type": "execute_result"
    }
   ],
   "source": [
    "df_state = pd.read_sql(sql_state, conn)\n",
    "df_state"
   ]
  },
  {
   "cell_type": "markdown",
   "metadata": {},
   "source": [
    "Ranking & Identifying Loss-Making States"
   ]
  },
  {
   "cell_type": "code",
   "execution_count": 48,
   "metadata": {},
   "outputs": [],
   "source": [
    "# Sort by Profit\n",
    "df_state_sorted = df_state.sort_values(by='Total_Profit', ascending=False)\n"
   ]
  },
  {
   "cell_type": "code",
   "execution_count": 49,
   "metadata": {},
   "outputs": [],
   "source": [
    "# Top 5 Performance\n",
    "top_5_states = df_state_sorted.head(5)"
   ]
  },
  {
   "cell_type": "code",
   "execution_count": 50,
   "metadata": {},
   "outputs": [],
   "source": [
    "# Bottom 5 Performance\n",
    "bottom_5_states = df_state_sorted.tail(5)"
   ]
  },
  {
   "cell_type": "code",
   "execution_count": 51,
   "metadata": {},
   "outputs": [],
   "source": [
    "# Loss-Making States\n",
    "loss_making_states = df_state_sorted[df_state_sorted['Total_Profit'] < 0]"
   ]
  },
  {
   "cell_type": "code",
   "execution_count": 52,
   "metadata": {},
   "outputs": [
    {
     "data": {
      "application/vnd.microsoft.datawrangler.viewer.v0+json": {
       "columns": [
        {
         "name": "index",
         "rawType": "int64",
         "type": "integer"
        },
        {
         "name": "region",
         "rawType": "object",
         "type": "string"
        },
        {
         "name": "state",
         "rawType": "object",
         "type": "string"
        },
        {
         "name": "Total_Sales",
         "rawType": "float64",
         "type": "float"
        },
        {
         "name": "Total_Profit",
         "rawType": "float64",
         "type": "float"
        }
       ],
       "ref": "23dc1912-099f-412f-bbdd-75e8cb99050f",
       "rows": [
        [
         "0",
         "North",
         "Unknown",
         "619477.7293872833",
         "154869.43234682083"
        ],
        [
         "1",
         "East",
         "New York",
         "572738.5103607178",
         "143184.62759017944"
        ],
        [
         "2",
         "West",
         "California",
         "538043.4090423584",
         "134510.8522605896"
        ],
        [
         "3",
         "South",
         "Texas",
         "525178.1627883911",
         "131294.54069709778"
        ]
       ],
       "shape": {
        "columns": 4,
        "rows": 4
       }
      },
      "text/html": [
       "<div>\n",
       "<style scoped>\n",
       "    .dataframe tbody tr th:only-of-type {\n",
       "        vertical-align: middle;\n",
       "    }\n",
       "\n",
       "    .dataframe tbody tr th {\n",
       "        vertical-align: top;\n",
       "    }\n",
       "\n",
       "    .dataframe thead th {\n",
       "        text-align: right;\n",
       "    }\n",
       "</style>\n",
       "<table border=\"1\" class=\"dataframe\">\n",
       "  <thead>\n",
       "    <tr style=\"text-align: right;\">\n",
       "      <th></th>\n",
       "      <th>region</th>\n",
       "      <th>state</th>\n",
       "      <th>Total_Sales</th>\n",
       "      <th>Total_Profit</th>\n",
       "    </tr>\n",
       "  </thead>\n",
       "  <tbody>\n",
       "    <tr>\n",
       "      <th>0</th>\n",
       "      <td>North</td>\n",
       "      <td>Unknown</td>\n",
       "      <td>619477.729387</td>\n",
       "      <td>154869.432347</td>\n",
       "    </tr>\n",
       "    <tr>\n",
       "      <th>1</th>\n",
       "      <td>East</td>\n",
       "      <td>New York</td>\n",
       "      <td>572738.510361</td>\n",
       "      <td>143184.627590</td>\n",
       "    </tr>\n",
       "    <tr>\n",
       "      <th>2</th>\n",
       "      <td>West</td>\n",
       "      <td>California</td>\n",
       "      <td>538043.409042</td>\n",
       "      <td>134510.852261</td>\n",
       "    </tr>\n",
       "    <tr>\n",
       "      <th>3</th>\n",
       "      <td>South</td>\n",
       "      <td>Texas</td>\n",
       "      <td>525178.162788</td>\n",
       "      <td>131294.540697</td>\n",
       "    </tr>\n",
       "  </tbody>\n",
       "</table>\n",
       "</div>"
      ],
      "text/plain": [
       "  region       state    Total_Sales   Total_Profit\n",
       "0  North     Unknown  619477.729387  154869.432347\n",
       "1   East    New York  572738.510361  143184.627590\n",
       "2   West  California  538043.409042  134510.852261\n",
       "3  South       Texas  525178.162788  131294.540697"
      ]
     },
     "metadata": {},
     "output_type": "display_data"
    },
    {
     "data": {
      "application/vnd.microsoft.datawrangler.viewer.v0+json": {
       "columns": [
        {
         "name": "index",
         "rawType": "int64",
         "type": "integer"
        },
        {
         "name": "region",
         "rawType": "object",
         "type": "string"
        },
        {
         "name": "state",
         "rawType": "object",
         "type": "string"
        },
        {
         "name": "Total_Sales",
         "rawType": "float64",
         "type": "float"
        },
        {
         "name": "Total_Profit",
         "rawType": "float64",
         "type": "float"
        }
       ],
       "ref": "b685be63-b13d-4da2-a825-be70d42ea50b",
       "rows": [
        [
         "0",
         "North",
         "Unknown",
         "619477.7293872833",
         "154869.43234682083"
        ],
        [
         "1",
         "East",
         "New York",
         "572738.5103607178",
         "143184.62759017944"
        ],
        [
         "2",
         "West",
         "California",
         "538043.4090423584",
         "134510.8522605896"
        ],
        [
         "3",
         "South",
         "Texas",
         "525178.1627883911",
         "131294.54069709778"
        ]
       ],
       "shape": {
        "columns": 4,
        "rows": 4
       }
      },
      "text/html": [
       "<div>\n",
       "<style scoped>\n",
       "    .dataframe tbody tr th:only-of-type {\n",
       "        vertical-align: middle;\n",
       "    }\n",
       "\n",
       "    .dataframe tbody tr th {\n",
       "        vertical-align: top;\n",
       "    }\n",
       "\n",
       "    .dataframe thead th {\n",
       "        text-align: right;\n",
       "    }\n",
       "</style>\n",
       "<table border=\"1\" class=\"dataframe\">\n",
       "  <thead>\n",
       "    <tr style=\"text-align: right;\">\n",
       "      <th></th>\n",
       "      <th>region</th>\n",
       "      <th>state</th>\n",
       "      <th>Total_Sales</th>\n",
       "      <th>Total_Profit</th>\n",
       "    </tr>\n",
       "  </thead>\n",
       "  <tbody>\n",
       "    <tr>\n",
       "      <th>0</th>\n",
       "      <td>North</td>\n",
       "      <td>Unknown</td>\n",
       "      <td>619477.729387</td>\n",
       "      <td>154869.432347</td>\n",
       "    </tr>\n",
       "    <tr>\n",
       "      <th>1</th>\n",
       "      <td>East</td>\n",
       "      <td>New York</td>\n",
       "      <td>572738.510361</td>\n",
       "      <td>143184.627590</td>\n",
       "    </tr>\n",
       "    <tr>\n",
       "      <th>2</th>\n",
       "      <td>West</td>\n",
       "      <td>California</td>\n",
       "      <td>538043.409042</td>\n",
       "      <td>134510.852261</td>\n",
       "    </tr>\n",
       "    <tr>\n",
       "      <th>3</th>\n",
       "      <td>South</td>\n",
       "      <td>Texas</td>\n",
       "      <td>525178.162788</td>\n",
       "      <td>131294.540697</td>\n",
       "    </tr>\n",
       "  </tbody>\n",
       "</table>\n",
       "</div>"
      ],
      "text/plain": [
       "  region       state    Total_Sales   Total_Profit\n",
       "0  North     Unknown  619477.729387  154869.432347\n",
       "1   East    New York  572738.510361  143184.627590\n",
       "2   West  California  538043.409042  134510.852261\n",
       "3  South       Texas  525178.162788  131294.540697"
      ]
     },
     "metadata": {},
     "output_type": "display_data"
    },
    {
     "data": {
      "application/vnd.microsoft.datawrangler.viewer.v0+json": {
       "columns": [
        {
         "name": "index",
         "rawType": "int64",
         "type": "integer"
        },
        {
         "name": "region",
         "rawType": "object",
         "type": "string"
        },
        {
         "name": "state",
         "rawType": "object",
         "type": "string"
        },
        {
         "name": "Total_Sales",
         "rawType": "float64",
         "type": "float"
        },
        {
         "name": "Total_Profit",
         "rawType": "float64",
         "type": "float"
        }
       ],
       "ref": "5df957b0-623d-443d-a035-bef0f2888421",
       "rows": [],
       "shape": {
        "columns": 4,
        "rows": 0
       }
      },
      "text/html": [
       "<div>\n",
       "<style scoped>\n",
       "    .dataframe tbody tr th:only-of-type {\n",
       "        vertical-align: middle;\n",
       "    }\n",
       "\n",
       "    .dataframe tbody tr th {\n",
       "        vertical-align: top;\n",
       "    }\n",
       "\n",
       "    .dataframe thead th {\n",
       "        text-align: right;\n",
       "    }\n",
       "</style>\n",
       "<table border=\"1\" class=\"dataframe\">\n",
       "  <thead>\n",
       "    <tr style=\"text-align: right;\">\n",
       "      <th></th>\n",
       "      <th>region</th>\n",
       "      <th>state</th>\n",
       "      <th>Total_Sales</th>\n",
       "      <th>Total_Profit</th>\n",
       "    </tr>\n",
       "  </thead>\n",
       "  <tbody>\n",
       "  </tbody>\n",
       "</table>\n",
       "</div>"
      ],
      "text/plain": [
       "Empty DataFrame\n",
       "Columns: [region, state, Total_Sales, Total_Profit]\n",
       "Index: []"
      ]
     },
     "metadata": {},
     "output_type": "display_data"
    }
   ],
   "source": [
    "display(top_5_states, bottom_5_states, loss_making_states)"
   ]
  },
  {
   "cell_type": "markdown",
   "metadata": {},
   "source": [
    "Regional Contribution & Profit Margin"
   ]
  },
  {
   "cell_type": "code",
   "execution_count": 53,
   "metadata": {},
   "outputs": [],
   "source": [
    "# Contribution %\n",
    "df_region[\"Sales_Contribution_%\"] = (df_region[\"Total_Sales\"] / df_region[\"Total_Sales\"].sum()) * 100"
   ]
  },
  {
   "cell_type": "code",
   "execution_count": 54,
   "metadata": {},
   "outputs": [],
   "source": [
    "# Profit Margin\n",
    "df_region[\"Profit_Margin_%\"] = (df_region[\"Total_Profit\"] / df_region[\"Total_Sales\"]) * 100"
   ]
  },
  {
   "cell_type": "code",
   "execution_count": 55,
   "metadata": {},
   "outputs": [
    {
     "data": {
      "application/vnd.microsoft.datawrangler.viewer.v0+json": {
       "columns": [
        {
         "name": "index",
         "rawType": "int64",
         "type": "integer"
        },
        {
         "name": "Region",
         "rawType": "object",
         "type": "string"
        },
        {
         "name": "Total_Sales",
         "rawType": "float64",
         "type": "float"
        },
        {
         "name": "Total_Profit",
         "rawType": "float64",
         "type": "float"
        },
        {
         "name": "Sales_Contribution_%",
         "rawType": "float64",
         "type": "float"
        },
        {
         "name": "Profit_Margin_%",
         "rawType": "float64",
         "type": "float"
        }
       ],
       "ref": "56ba0d4d-7abd-403e-a58c-41a6a12e922b",
       "rows": [
        [
         "0",
         "North",
         "619477.7293872833",
         "154869.43234682083",
         "27.465963646041043",
         "25.0"
        ],
        [
         "1",
         "East",
         "572738.5103607178",
         "143184.62759017944",
         "25.393673344503124",
         "25.0"
        ],
        [
         "2",
         "West",
         "538043.4090423584",
         "134510.8522605896",
         "23.855386580831563",
         "25.0"
        ],
        [
         "3",
         "South",
         "525178.1627883911",
         "131294.54069709778",
         "23.28497642862427",
         "25.0"
        ]
       ],
       "shape": {
        "columns": 5,
        "rows": 4
       }
      },
      "text/html": [
       "<div>\n",
       "<style scoped>\n",
       "    .dataframe tbody tr th:only-of-type {\n",
       "        vertical-align: middle;\n",
       "    }\n",
       "\n",
       "    .dataframe tbody tr th {\n",
       "        vertical-align: top;\n",
       "    }\n",
       "\n",
       "    .dataframe thead th {\n",
       "        text-align: right;\n",
       "    }\n",
       "</style>\n",
       "<table border=\"1\" class=\"dataframe\">\n",
       "  <thead>\n",
       "    <tr style=\"text-align: right;\">\n",
       "      <th></th>\n",
       "      <th>Region</th>\n",
       "      <th>Total_Sales</th>\n",
       "      <th>Total_Profit</th>\n",
       "      <th>Sales_Contribution_%</th>\n",
       "      <th>Profit_Margin_%</th>\n",
       "    </tr>\n",
       "  </thead>\n",
       "  <tbody>\n",
       "    <tr>\n",
       "      <th>0</th>\n",
       "      <td>North</td>\n",
       "      <td>619477.729387</td>\n",
       "      <td>154869.432347</td>\n",
       "      <td>27.465964</td>\n",
       "      <td>25.0</td>\n",
       "    </tr>\n",
       "    <tr>\n",
       "      <th>1</th>\n",
       "      <td>East</td>\n",
       "      <td>572738.510361</td>\n",
       "      <td>143184.627590</td>\n",
       "      <td>25.393673</td>\n",
       "      <td>25.0</td>\n",
       "    </tr>\n",
       "    <tr>\n",
       "      <th>2</th>\n",
       "      <td>West</td>\n",
       "      <td>538043.409042</td>\n",
       "      <td>134510.852261</td>\n",
       "      <td>23.855387</td>\n",
       "      <td>25.0</td>\n",
       "    </tr>\n",
       "    <tr>\n",
       "      <th>3</th>\n",
       "      <td>South</td>\n",
       "      <td>525178.162788</td>\n",
       "      <td>131294.540697</td>\n",
       "      <td>23.284976</td>\n",
       "      <td>25.0</td>\n",
       "    </tr>\n",
       "  </tbody>\n",
       "</table>\n",
       "</div>"
      ],
      "text/plain": [
       "  Region    Total_Sales   Total_Profit  Sales_Contribution_%  Profit_Margin_%\n",
       "0  North  619477.729387  154869.432347             27.465964             25.0\n",
       "1   East  572738.510361  143184.627590             25.393673             25.0\n",
       "2   West  538043.409042  134510.852261             23.855387             25.0\n",
       "3  South  525178.162788  131294.540697             23.284976             25.0"
      ]
     },
     "execution_count": 55,
     "metadata": {},
     "output_type": "execute_result"
    }
   ],
   "source": [
    "df_region"
   ]
  },
  {
   "cell_type": "code",
   "execution_count": 56,
   "metadata": {},
   "outputs": [],
   "source": [
    "df_state.to_csv(\"state_performance.csv\", index=False)\n",
    "df_region.to_csv(\"region_performance.csv\", index=False)"
   ]
  }
 ],
 "metadata": {
  "kernelspec": {
   "display_name": "base",
   "language": "python",
   "name": "python3"
  },
  "language_info": {
   "codemirror_mode": {
    "name": "ipython",
    "version": 3
   },
   "file_extension": ".py",
   "mimetype": "text/x-python",
   "name": "python",
   "nbconvert_exporter": "python",
   "pygments_lexer": "ipython3",
   "version": "3.12.7"
  }
 },
 "nbformat": 4,
 "nbformat_minor": 2
}
